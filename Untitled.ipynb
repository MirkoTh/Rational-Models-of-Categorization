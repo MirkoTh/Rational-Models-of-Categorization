{
 "cells": [
  {
   "cell_type": "code",
   "execution_count": 1,
   "id": "ef4db818",
   "metadata": {},
   "outputs": [],
   "source": [
    "import numpy as np\n",
    "import pandas as pd\n",
    "import matplotlib.pyplot as plt\n",
    "from scipy.stats import distributions as dist\n",
    "from collections import Counter"
   ]
  },
  {
   "cell_type": "code",
   "execution_count": 2,
   "id": "c54a8f83",
   "metadata": {},
   "outputs": [],
   "source": [
    "%load_ext autoreload\n",
    "%autoreload 2"
   ]
  },
  {
   "cell_type": "code",
   "execution_count": 3,
   "id": "f5b20e4e",
   "metadata": {},
   "outputs": [],
   "source": [
    "from models import particle as ptcl"
   ]
  },
  {
   "cell_type": "code",
   "execution_count": 65,
   "id": "3e16f3fe",
   "metadata": {},
   "outputs": [],
   "source": [
    "run = 0\n",
    "stims, labels = ptcl.get_zmstims(400)\n",
    "types = \"cc\"\n",
    "Cparam = 0.65\n",
    "mu0 = np.mean(stims, 0)\n",
    "sigma0 = np.var(stims, 0)\n",
    "lambda0 = np.ones(len(stims[0]))\n",
    "a0 = np.ones(len(stims[0]))\n",
    "n_labels = 4\n",
    "feedback = [1, 2, 3, 1, 2, 2, 2, 4, 3, 1]\n",
    "\n",
    "args = [Cparam, mu0, sigma0, lambda0, a0, types, n_labels, feedback]\n",
    "\n",
    "model = ptcl.RationalParticle(args, decision = \"MAP\")"
   ]
  },
  {
   "cell_type": "code",
   "execution_count": 66,
   "id": "077a5ecb",
   "metadata": {},
   "outputs": [],
   "source": [
    "model.N = 1\n",
    "model.partition = [0]"
   ]
  },
  {
   "cell_type": "code",
   "execution_count": 67,
   "id": "e2deb470",
   "metadata": {},
   "outputs": [
    {
     "data": {
      "text/plain": [
       "array([0.25, 0.25, 0.25, 0.25])"
      ]
     },
     "execution_count": 67,
     "metadata": {},
     "output_type": "execute_result"
    }
   ],
   "source": [
    "model.labelprob()"
   ]
  },
  {
   "cell_type": "code",
   "execution_count": 68,
   "id": "f836dd6b",
   "metadata": {},
   "outputs": [],
   "source": [
    "model.N = 2\n",
    "model.partition = [0, 0]"
   ]
  },
  {
   "cell_type": "code",
   "execution_count": 69,
   "id": "d997f42c",
   "metadata": {},
   "outputs": [
    {
     "data": {
      "text/plain": [
       "array([[0.4 , 0.2 , 0.2 , 0.2 ],\n",
       "       [0.25, 0.25, 0.25, 0.25]])"
      ]
     },
     "execution_count": 69,
     "metadata": {},
     "output_type": "execute_result"
    }
   ],
   "source": [
    "model.labelprob()"
   ]
  },
  {
   "cell_type": "code",
   "execution_count": 63,
   "id": "20829bb8",
   "metadata": {},
   "outputs": [
    {
     "data": {
      "text/plain": [
       "[0]"
      ]
     },
     "execution_count": 63,
     "metadata": {},
     "output_type": "execute_result"
    }
   ],
   "source": [
    "up"
   ]
  },
  {
   "cell_type": "code",
   "execution_count": null,
   "id": "38af5457",
   "metadata": {},
   "outputs": [],
   "source": [
    "pkf = np.array([[.5, .3, .2]])\n",
    "plk = np.array([[.4, .2, .2, .2], [.2, .4, .2, .2], [.25, .25, .25, .25]])\n",
    "pkf @ plk"
   ]
  },
  {
   "cell_type": "code",
   "execution_count": null,
   "id": "9fdc28a7",
   "metadata": {},
   "outputs": [],
   "source": []
  },
  {
   "cell_type": "code",
   "execution_count": null,
   "id": "a6f6801c",
   "metadata": {},
   "outputs": [],
   "source": [
    "model.partition = [0, 0, 1, 2, 2, 3, 3, 3]\n",
    "model.feedback = [1, 3, 3, 4, 4, 2, 2, 2]\n",
    "n_partitions = len(np.unique(model.partition))\n",
    "n_unique_feedback = len(np.unique(model.feedback))"
   ]
  },
  {
   "cell_type": "code",
   "execution_count": null,
   "id": "fe95223c",
   "metadata": {},
   "outputs": [],
   "source": [
    "_, counts = ptcl.crosstab(model.partition, model.feedback)"
   ]
  },
  {
   "cell_type": "code",
   "execution_count": null,
   "id": "f1ba93a0",
   "metadata": {},
   "outputs": [],
   "source": [
    "model.N = len(model.partition)"
   ]
  },
  {
   "cell_type": "code",
   "execution_count": null,
   "id": "a3179052",
   "metadata": {},
   "outputs": [],
   "source": [
    "counts"
   ]
  },
  {
   "cell_type": "code",
   "execution_count": null,
   "id": "4778328b",
   "metadata": {},
   "outputs": [],
   "source": [
    "_"
   ]
  },
  {
   "cell_type": "code",
   "execution_count": null,
   "id": "19f8bd02",
   "metadata": {},
   "outputs": [],
   "source": [
    "counts_formatted = np.reshape(np.repeat(0, len(np.unique(model.partition)) * model.n_labels), (n_partitions, 4))"
   ]
  },
  {
   "cell_type": "code",
   "execution_count": null,
   "id": "fe7955df",
   "metadata": {},
   "outputs": [],
   "source": [
    "if n_unique_feedback < model.n_labels:\n",
    "    for p in _[0]:\n",
    "        idx = 0\n",
    "        for l in _[1]:\n",
    "            counts_formatted[p, l-1] += counts[p, idx]\n",
    "            idx += 1\n",
    "else:\n",
    "    print(\"in else portion\")\n",
    "    counts_formatted = counts"
   ]
  },
  {
   "cell_type": "code",
   "execution_count": null,
   "id": "f6bae657",
   "metadata": {},
   "outputs": [],
   "source": [
    "counts_formatted"
   ]
  },
  {
   "cell_type": "code",
   "execution_count": null,
   "id": "58707626",
   "metadata": {},
   "outputs": [],
   "source": [
    "p"
   ]
  },
  {
   "cell_type": "code",
   "execution_count": null,
   "id": "af760299",
   "metadata": {},
   "outputs": [],
   "source": [
    "l"
   ]
  },
  {
   "cell_type": "code",
   "execution_count": null,
   "id": "15bc9550",
   "metadata": {},
   "outputs": [],
   "source": [
    "stimset = stims  # [:64]"
   ]
  },
  {
   "cell_type": "code",
   "execution_count": null,
   "id": "c0b4fd32",
   "metadata": {},
   "outputs": [],
   "source": [
    "s = stimset[0]\n",
    "stim = s"
   ]
  },
  {
   "cell_type": "code",
   "execution_count": null,
   "id": "0680cc9b",
   "metadata": {},
   "outputs": [],
   "source": [
    "stimnum = model.register_item(stim, checkduplicate=False)"
   ]
  },
  {
   "cell_type": "code",
   "execution_count": null,
   "id": "24d6aa81",
   "metadata": {},
   "outputs": [],
   "source": [
    "pk = np.empty(model.clusters + 1)\n",
    "pfk = np.empty(model.clusters + 1)"
   ]
  },
  {
   "cell_type": "code",
   "execution_count": null,
   "id": "301383cc",
   "metadata": {},
   "outputs": [],
   "source": [
    "stim = 0"
   ]
  },
  {
   "cell_type": "code",
   "execution_count": null,
   "id": "701f4273",
   "metadata": {},
   "outputs": [],
   "source": [
    "for k in range(model.clusters):\n",
    "    # This loops through the clusters, finding prior and conditional\n",
    "\n",
    "    # Prior:\n",
    "    pk[k] = (\n",
    "        model.c\n",
    "        * float(sum([item == k for item in model.partition]))\n",
    "        / ((1.0 - model.c) + model.c * float(model.N))\n",
    "    )\n",
    "    print(\"we're in here\")\n",
    "\n",
    "    # for given cluster, compute likelihood of current stimulus\n",
    "    # pfk[k] = model.stimprob( stim, k )\n",
    "    # Conditional:\n",
    "    pfk[k] = model.stimprob(stim, k, env)"
   ]
  },
  {
   "cell_type": "code",
   "execution_count": null,
   "id": "96c3547d",
   "metadata": {
    "scrolled": false
   },
   "outputs": [],
   "source": [
    "# Prior / likelihood for new cluster\n",
    "pk[model.clusters] = (1.0 - model.c) / float(\n",
    "    (1.0 - model.c) + model.c * float(model.N)\n",
    ")\n",
    "pfk[model.clusters] = model.stimprob(stim, model.clusters)"
   ]
  },
  {
   "cell_type": "code",
   "execution_count": null,
   "id": "f90c17ec",
   "metadata": {},
   "outputs": [],
   "source": [
    "num"
   ]
  },
  {
   "cell_type": "code",
   "execution_count": null,
   "id": "2002c277",
   "metadata": {},
   "outputs": [],
   "source": [
    "denom"
   ]
  },
  {
   "cell_type": "code",
   "execution_count": null,
   "id": "40aee424",
   "metadata": {},
   "outputs": [],
   "source": [
    "calcclust = False\n",
    "VERBOSE = False\n",
    "# put it together\n",
    "num = pk * pfk\n",
    "denom = sum(num)\n",
    "if denom > 0:\n",
    "    pkf = num / denom\n",
    "else:\n",
    "    # raise Exception, \"Could not find posterior\"\n",
    "    # I think this will only arise relatively harmlessly, when there's\n",
    "    # been a numerical error\"\n",
    "    pkf = np.ones(len(pk)) / float(len(pk))\n",
    "\n",
    "# Calculate it just for clusters too, this is for filter sampling.\n",
    "if calcclust:\n",
    "    clustnum = pk[: model.clusters] * pfk[: model.clusters]\n",
    "    clustdenom = sum(clustnum)\n",
    "    if clustdenom > 0:\n",
    "        clustpkf = np.dot(pk, pfk)\n",
    "    else:\n",
    "        # raise Exception, \"Could not find posterior\"\n",
    "        # I think this will only arise relatively harmlessly, when there's\n",
    "        # been a numerical error\"\n",
    "        clustpkf = np.ones(len(pk)) / float(len(pk))\n",
    "\n",
    "if VERBOSE:\n",
    "    print(\"p(k)s: \", pk)\n",
    "    print(\"p(f|k)s: \", pfk)\n",
    "    print(\"p(k|f): \", pkf)\n",
    "\n",
    "model.currentposterior = pkf\n",
    "if calcclust:\n",
    "    model.clusterposterior = clustpkf\n",
    "model.laststim = model.stims[stim]"
   ]
  },
  {
   "cell_type": "code",
   "execution_count": null,
   "id": "8b733232",
   "metadata": {},
   "outputs": [],
   "source": [
    "model.N = 1"
   ]
  },
  {
   "cell_type": "code",
   "execution_count": null,
   "id": "e723b159",
   "metadata": {},
   "outputs": [],
   "source": [
    "model.N"
   ]
  },
  {
   "cell_type": "code",
   "execution_count": null,
   "id": "368d0963",
   "metadata": {},
   "outputs": [],
   "source": [
    "print(\"a = \" + 3)"
   ]
  }
 ],
 "metadata": {
  "kernelspec": {
   "display_name": "Python 3 (ipykernel)",
   "language": "python",
   "name": "python3"
  },
  "language_info": {
   "codemirror_mode": {
    "name": "ipython",
    "version": 3
   },
   "file_extension": ".py",
   "mimetype": "text/x-python",
   "name": "python",
   "nbconvert_exporter": "python",
   "pygments_lexer": "ipython3",
   "version": "3.10.8"
  }
 },
 "nbformat": 4,
 "nbformat_minor": 5
}
