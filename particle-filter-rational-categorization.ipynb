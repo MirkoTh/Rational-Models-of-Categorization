{
 "cells": [
  {
   "cell_type": "markdown",
   "id": "2874e10c",
   "metadata": {
    "toc": true
   },
   "source": [
    "<h1>Table of Contents<span class=\"tocSkip\"></span></h1>\n",
    "<div class=\"toc\"><ul class=\"toc-item\"><li><span><a href=\"#Testing-of-Code\" data-toc-modified-id=\"Testing-of-Code-1\"><span class=\"toc-item-num\">1&nbsp;&nbsp;</span>Testing of Code</a></span></li><li><span><a href=\"#Fit-the-Particle-Filter\" data-toc-modified-id=\"Fit-the-Particle-Filter-2\"><span class=\"toc-item-num\">2&nbsp;&nbsp;</span>Fit the Particle Filter</a></span><ul class=\"toc-item\"><li><span><a href=\"#Parallelize-All-Participants\" data-toc-modified-id=\"Parallelize-All-Participants-2.1\"><span class=\"toc-item-num\">2.1&nbsp;&nbsp;</span>Parallelize All Participants</a></span></li><li><span><a href=\"#Test-Individual-Participants\" data-toc-modified-id=\"Test-Individual-Participants-2.2\"><span class=\"toc-item-num\">2.2&nbsp;&nbsp;</span>Test Individual Participants</a></span></li></ul></li></ul></div>"
   ]
  },
  {
   "cell_type": "markdown",
   "id": "b3b4c971",
   "metadata": {},
   "source": [
    "# Testing of Code"
   ]
  },
  {
   "cell_type": "code",
   "execution_count": 1,
   "id": "ef4db818",
   "metadata": {
    "ExecuteTime": {
     "end_time": "2023-01-05T08:28:25.393113Z",
     "start_time": "2023-01-05T08:28:23.660601Z"
    }
   },
   "outputs": [],
   "source": [
    "import numpy as np\n",
    "import pandas as pd\n",
    "import matplotlib.pyplot as plt\n",
    "from scipy.stats import distributions as dist\n",
    "from collections import Counter\n",
    "from scipy.optimize import minimize, Bounds\n",
    "import math\n",
    "import pickle"
   ]
  },
  {
   "cell_type": "code",
   "execution_count": 2,
   "id": "0e4b137b",
   "metadata": {
    "ExecuteTime": {
     "end_time": "2023-01-05T08:28:25.408735Z",
     "start_time": "2023-01-05T08:28:25.393113Z"
    }
   },
   "outputs": [],
   "source": [
    "from functools import partial, reduce\n",
    "from multiprocessing import Pool"
   ]
  },
  {
   "cell_type": "code",
   "execution_count": 3,
   "id": "c54a8f83",
   "metadata": {
    "ExecuteTime": {
     "end_time": "2023-01-05T08:28:25.484805Z",
     "start_time": "2023-01-05T08:28:25.408735Z"
    }
   },
   "outputs": [],
   "source": [
    "%load_ext autoreload\n",
    "%autoreload 2"
   ]
  },
  {
   "cell_type": "code",
   "execution_count": 4,
   "id": "f5b20e4e",
   "metadata": {
    "ExecuteTime": {
     "end_time": "2023-01-05T08:28:25.593679Z",
     "start_time": "2023-01-05T08:28:25.484805Z"
    }
   },
   "outputs": [],
   "source": [
    "from models import particle as ptcl"
   ]
  },
  {
   "cell_type": "code",
   "execution_count": 5,
   "id": "3e16f3fe",
   "metadata": {
    "ExecuteTime": {
     "end_time": "2023-01-04T14:58:14.889834Z",
     "start_time": "2023-01-04T14:58:14.467795Z"
    }
   },
   "outputs": [],
   "source": [
    "run = 0\n",
    "stims, labels = ptcl.get_zmstims(400)\n",
    "types = \"cc\"\n",
    "Cparam = 0.65\n",
    "mu0 = np.mean(stims, 0)\n",
    "sigma0 = np.var(stims, 0)\n",
    "lambda0 = np.ones(len(stims[0]))\n",
    "a0 = np.ones(len(stims[0]))\n",
    "n_labels = 4\n",
    "feedback = [1, 2, 3, 1, 2, 2, 2, 4, 3, 1]\n",
    "\n",
    "args = [Cparam, mu0, sigma0, lambda0, a0, types, n_labels, feedback]\n",
    "\n",
    "model = ptcl.RationalParticle(args, decision = \"MAP\")"
   ]
  },
  {
   "cell_type": "code",
   "execution_count": 6,
   "id": "077a5ecb",
   "metadata": {
    "ExecuteTime": {
     "end_time": "2023-01-04T14:58:14.971347Z",
     "start_time": "2023-01-04T14:58:14.891849Z"
    }
   },
   "outputs": [],
   "source": [
    "model.N = 1\n",
    "model.partition = [0]"
   ]
  },
  {
   "cell_type": "code",
   "execution_count": 7,
   "id": "e2deb470",
   "metadata": {
    "ExecuteTime": {
     "end_time": "2023-01-04T14:58:15.073133Z",
     "start_time": "2023-01-04T14:58:14.973453Z"
    }
   },
   "outputs": [
    {
     "data": {
      "text/plain": [
       "array([0.25, 0.25, 0.25, 0.25])"
      ]
     },
     "execution_count": 7,
     "metadata": {},
     "output_type": "execute_result"
    }
   ],
   "source": [
    "model.labelprob()"
   ]
  },
  {
   "cell_type": "code",
   "execution_count": 8,
   "id": "f836dd6b",
   "metadata": {
    "ExecuteTime": {
     "end_time": "2023-01-04T14:58:15.140191Z",
     "start_time": "2023-01-04T14:58:15.075164Z"
    }
   },
   "outputs": [],
   "source": [
    "model.N = 2\n",
    "model.partition = [0, 0]"
   ]
  },
  {
   "cell_type": "code",
   "execution_count": 9,
   "id": "d997f42c",
   "metadata": {
    "ExecuteTime": {
     "end_time": "2023-01-04T14:58:15.209135Z",
     "start_time": "2023-01-04T14:58:15.140191Z"
    }
   },
   "outputs": [
    {
     "data": {
      "text/plain": [
       "array([[0.4 , 0.2 , 0.2 , 0.2 ],\n",
       "       [0.25, 0.25, 0.25, 0.25]])"
      ]
     },
     "execution_count": 9,
     "metadata": {},
     "output_type": "execute_result"
    }
   ],
   "source": [
    "model.labelprob()"
   ]
  },
  {
   "cell_type": "markdown",
   "id": "fa1a54ea",
   "metadata": {},
   "source": [
    "# Fit the Particle Filter"
   ]
  },
  {
   "cell_type": "markdown",
   "id": "75803d22",
   "metadata": {},
   "source": [
    "Model Selection Logic:\n",
    "1. run training trials with the model; feedback is provided, therefore, the label counts are updated according to the true category label during training\n",
    "2. replicate 1. with several values for c and return all models\n",
    "3. make predictions on hold out transfer data for all combinations\n",
    "4. select best fitting c parameter for every participant"
   ]
  },
  {
   "cell_type": "markdown",
   "id": "863e12cc",
   "metadata": {},
   "source": [
    "nb. fit only c parameter, keep others fixed"
   ]
  },
  {
   "cell_type": "code",
   "execution_count": 7,
   "id": "fa3c0da8",
   "metadata": {
    "ExecuteTime": {
     "end_time": "2023-01-05T08:29:02.301456Z",
     "start_time": "2023-01-05T08:29:02.107276Z"
    }
   },
   "outputs": [],
   "source": [
    "tbl_train = pd.read_csv(\"data/tbl_train.csv\")\n",
    "tbl_transfer = pd.read_csv(\"data/tbl_transfer.csv\")"
   ]
  },
  {
   "cell_type": "code",
   "execution_count": 8,
   "id": "b5b1db41",
   "metadata": {
    "ExecuteTime": {
     "end_time": "2023-01-05T08:29:02.802642Z",
     "start_time": "2023-01-05T08:29:02.724533Z"
    }
   },
   "outputs": [],
   "source": [
    "tbl_train[\"trial_id\"] = tbl_train.groupby(\"participant\").cumcount()+1"
   ]
  },
  {
   "cell_type": "code",
   "execution_count": 9,
   "id": "4cd51396",
   "metadata": {
    "ExecuteTime": {
     "end_time": "2023-01-05T08:29:03.071856Z",
     "start_time": "2023-01-05T08:29:02.987235Z"
    },
    "scrolled": true
   },
   "outputs": [
    {
     "data": {
      "text/plain": [
       "participant\n",
       "147    992\n",
       "108    992\n",
       "129    992\n",
       "113    992\n",
       "124    992\n",
       "dtype: int64"
      ]
     },
     "execution_count": 9,
     "metadata": {},
     "output_type": "execute_result"
    }
   ],
   "source": [
    "tbl_train.value_counts(\"participant\").head()"
   ]
  },
  {
   "cell_type": "code",
   "execution_count": 10,
   "id": "bcb2ef90",
   "metadata": {
    "ExecuteTime": {
     "end_time": "2023-01-05T08:29:04.252020Z",
     "start_time": "2023-01-05T08:29:04.173906Z"
    }
   },
   "outputs": [],
   "source": [
    "tbl_train_small = tbl_train[tbl_train[\"trial_id\"] < 100].copy()"
   ]
  },
  {
   "cell_type": "code",
   "execution_count": 11,
   "id": "544aa01b",
   "metadata": {
    "ExecuteTime": {
     "end_time": "2023-01-05T08:29:05.470400Z",
     "start_time": "2023-01-05T08:29:05.392360Z"
    }
   },
   "outputs": [
    {
     "data": {
      "text/plain": [
       "array([3, 1, 2], dtype=int64)"
      ]
     },
     "execution_count": 11,
     "metadata": {},
     "output_type": "execute_result"
    }
   ],
   "source": [
    "tbl_train_small[tbl_train_small[\"participant\"] == 104][\"category_int\"].unique()"
   ]
  },
  {
   "cell_type": "markdown",
   "id": "ecb4099e",
   "metadata": {},
   "source": [
    "## Parallelize All Participants"
   ]
  },
  {
   "cell_type": "markdown",
   "id": "275ee465",
   "metadata": {},
   "source": [
    "takes approx. 80 mins to fit one batch of participants (1 batch = 4 participants in parallel)\n",
    "\n",
    "batchsize can be increased to max 16 on the lab computer. so maybe 14 participants in parallel take 80 mins\n",
    "\n",
    "50 participants / 14 takes approx. 4 * 80 mins = 320 mins = 6h 20mins"
   ]
  },
  {
   "cell_type": "code",
   "execution_count": 15,
   "id": "06c40cb5",
   "metadata": {
    "ExecuteTime": {
     "end_time": "2023-01-04T21:54:16.097444Z",
     "start_time": "2023-01-04T14:58:22.413507Z"
    },
    "scrolled": true
   },
   "outputs": [
    {
     "name": "stderr",
     "output_type": "stream",
     "text": [
      "100%|████████████████████████████████████████████████████████████████████████████████████████████████| 50/50 [5:31:28<00:00, 397.77s/it]\n"
     ]
    }
   ],
   "source": [
    "l_results_train = ptcl.multiprocessing_grid_search_particle(tbl_train)"
   ]
  },
  {
   "cell_type": "code",
   "execution_count": 17,
   "id": "a649c354",
   "metadata": {
    "ExecuteTime": {
     "end_time": "2023-01-05T14:40:48.214565Z",
     "start_time": "2023-01-05T14:40:48.145570Z"
    }
   },
   "outputs": [],
   "source": [
    "r_o_w = \"write\""
   ]
  },
  {
   "cell_type": "code",
   "execution_count": 12,
   "id": "8dde06f7",
   "metadata": {
    "ExecuteTime": {
     "end_time": "2023-01-05T08:29:12.753050Z",
     "start_time": "2023-01-05T08:29:10.343633Z"
    }
   },
   "outputs": [],
   "source": [
    "if r_o_w == \"write\":\n",
    "    with open(\"data/lists-trained-models.pickle\", \"wb\") as f:\n",
    "        pickle.dump(l_results_train, f)\n",
    "elif r_o_w == \"read\":\n",
    "    with open(\"data/lists-trained-models.pickle\", \"rb\") as f:\n",
    "        l_results_train = pickle.load(f)"
   ]
  },
  {
   "cell_type": "code",
   "execution_count": 13,
   "id": "f43b1c14",
   "metadata": {
    "ExecuteTime": {
     "end_time": "2023-01-05T08:29:12.874169Z",
     "start_time": "2023-01-05T08:29:12.755068Z"
    }
   },
   "outputs": [],
   "source": [
    "for l in l_results_train:\n",
    "    l[\"tbl_transfer\"] = tbl_transfer[tbl_transfer[\"participant\"] == l[\"id\"]]"
   ]
  },
  {
   "cell_type": "markdown",
   "id": "a1a2a558",
   "metadata": {},
   "source": [
    "37 seconds with 20 data points\n",
    "\n",
    "143 seconds with 40 data points on personal laptop (but trained on 40 training data points as well)\n",
    "\n",
    "on lab computer 420 seconds with 40 data points to predict, but full data set trained"
   ]
  },
  {
   "cell_type": "code",
   "execution_count": 14,
   "id": "34976640",
   "metadata": {
    "ExecuteTime": {
     "end_time": "2023-01-05T14:16:13.673346Z",
     "start_time": "2023-01-05T08:29:16.351674Z"
    }
   },
   "outputs": [
    {
     "name": "stderr",
     "output_type": "stream",
     "text": [
      "100%|█████████████████████████████████████████████████████████████████████████████████████████████████████████████████| 50/50 [4:32:22<00:00, 326.85s/it]\n"
     ]
    }
   ],
   "source": [
    "l_results_transfer = ptcl.multiprocessing_prediction(l_results_train)"
   ]
  },
  {
   "cell_type": "code",
   "execution_count": 18,
   "id": "7a547f1f",
   "metadata": {
    "ExecuteTime": {
     "end_time": "2023-01-05T14:40:50.636014Z",
     "start_time": "2023-01-05T14:40:50.573522Z"
    }
   },
   "outputs": [],
   "source": [
    "if r_o_w == \"write\":\n",
    "    with open(\"data/lists-transfer-models.pickle\", \"wb\") as f:\n",
    "        pickle.dump(l_results_transfer, f)\n",
    "elif r_o_w == \"read\":\n",
    "    with open(\"data/lists-transfer-models.pickle\", \"rb\") as f:\n",
    "        l_results_transfer = pickle.load(f)"
   ]
  },
  {
   "cell_type": "code",
   "execution_count": 19,
   "id": "d188bff9",
   "metadata": {
    "ExecuteTime": {
     "end_time": "2023-01-05T14:41:01.643396Z",
     "start_time": "2023-01-05T14:41:01.574288Z"
    },
    "scrolled": true
   },
   "outputs": [],
   "source": [
    "df_results_transfer = reduce(lambda x, y: pd.concat([x, y]), l_results_transfer)"
   ]
  },
  {
   "cell_type": "code",
   "execution_count": 20,
   "id": "bddc8594",
   "metadata": {
    "ExecuteTime": {
     "end_time": "2023-01-05T14:41:02.223009Z",
     "start_time": "2023-01-05T14:41:02.144917Z"
    }
   },
   "outputs": [],
   "source": [
    "df_results_transfer[\"rank\"] = df_results_transfer.groupby(\"id\")[\"ll\"].rank(ascending=False)"
   ]
  },
  {
   "cell_type": "code",
   "execution_count": 39,
   "id": "d86e788a",
   "metadata": {
    "ExecuteTime": {
     "end_time": "2023-01-05T15:01:06.811848Z",
     "start_time": "2023-01-05T15:01:06.733764Z"
    }
   },
   "outputs": [],
   "source": [
    "df_top_rank = df_results_transfer.query(\"rank == 1\").copy()"
   ]
  },
  {
   "cell_type": "code",
   "execution_count": 42,
   "id": "83ab3438",
   "metadata": {
    "ExecuteTime": {
     "end_time": "2023-01-05T15:01:42.079986Z",
     "start_time": "2023-01-05T15:01:42.001872Z"
    }
   },
   "outputs": [],
   "source": [
    "df_top_rank[\"ll_rank\"] = df_top_rank[\"ll\"].rank(ascending=False)"
   ]
  },
  {
   "cell_type": "code",
   "execution_count": 50,
   "id": "5d765541",
   "metadata": {
    "ExecuteTime": {
     "end_time": "2023-01-05T15:04:16.375031Z",
     "start_time": "2023-01-05T15:04:16.158796Z"
    }
   },
   "outputs": [
    {
     "data": {
      "text/plain": [
       "<AxesSubplot: xlabel='c', ylabel='ll_rank'>"
      ]
     },
     "execution_count": 50,
     "metadata": {},
     "output_type": "execute_result"
    },
    {
     "data": {
      "image/png": "[encoded data removed]",
      "text/plain": [
       "<Figure size 640x480 with 1 Axes>"
      ]
     },
     "metadata": {},
     "output_type": "display_data"
    }
   ],
   "source": [
    "df_top_rank.sort_values(\"ll_rank\").plot.scatter(\"c\", \"ll_rank\")"
   ]
  },
  {
   "cell_type": "code",
   "execution_count": 22,
   "id": "e1e6e919",
   "metadata": {
    "ExecuteTime": {
     "end_time": "2023-01-05T14:41:11.008884Z",
     "start_time": "2023-01-05T14:41:08.955106Z"
    },
    "scrolled": true
   },
   "outputs": [
    {
     "data": {
      "image/png": "[encoded data removed]",
      "text/plain": [
       "<Figure size 500x400 with 1 Axes>"
      ]
     },
     "metadata": {},
     "output_type": "display_data"
    }
   ],
   "source": [
    "fig, ax = plt.subplots(figsize=(5, 4))\n",
    "for label, df in df_results_transfer.groupby(\"id\"):\n",
    "    df.plot(\"c\", \"ll\", ax=ax, label=label)\n",
    "_ = plt.legend()"
   ]
  },
  {
   "cell_type": "markdown",
   "id": "4a363442",
   "metadata": {},
   "source": [
    "did not store final number of clusters after transfer\n",
    "\n",
    "therefore, take number of clusters after train"
   ]
  },
  {
   "cell_type": "code",
   "execution_count": 88,
   "id": "d48920b0",
   "metadata": {
    "ExecuteTime": {
     "end_time": "2023-01-05T15:20:58.873217Z",
     "start_time": "2023-01-05T15:20:58.810664Z"
    }
   },
   "outputs": [],
   "source": [
    "nk = list()\n",
    "best_c = list()\n",
    "for idx, l in enumerate(l_results_transfer):\n",
    "    c_best_idx = l[\"ll\"].argmax()\n",
    "    nk.append(l_results_train[idx][\"model\"][c_best_idx].clusters)\n",
    "    best_c.append(l_results_train[idx][\"cs\"][c_best_idx])"
   ]
  },
  {
   "cell_type": "code",
   "execution_count": 91,
   "id": "3e59c16a",
   "metadata": {
    "ExecuteTime": {
     "end_time": "2023-01-05T15:21:53.923945Z",
     "start_time": "2023-01-05T15:21:53.845938Z"
    }
   },
   "outputs": [
    {
     "data": {
      "text/html": [
       "<div>\n",
       "<style scoped>\n",
       "    .dataframe tbody tr th:only-of-type {\n",
       "        vertical-align: middle;\n",
       "    }\n",
       "\n",
       "    .dataframe tbody tr th {\n",
       "        vertical-align: top;\n",
       "    }\n",
       "\n",
       "    .dataframe thead th {\n",
       "        text-align: right;\n",
       "    }\n",
       "</style>\n",
       "<table border=\"1\" class=\"dataframe\">\n",
       "  <thead>\n",
       "    <tr style=\"text-align: right;\">\n",
       "      <th></th>\n",
       "      <th>id</th>\n",
       "      <th>c</th>\n",
       "      <th>ll</th>\n",
       "      <th>rank</th>\n",
       "    </tr>\n",
       "  </thead>\n",
       "  <tbody>\n",
       "    <tr>\n",
       "      <th>0</th>\n",
       "      <td>101.0</td>\n",
       "      <td>0.025</td>\n",
       "      <td>-373.716269</td>\n",
       "      <td>9.0</td>\n",
       "    </tr>\n",
       "    <tr>\n",
       "      <th>0</th>\n",
       "      <td>101.0</td>\n",
       "      <td>0.075</td>\n",
       "      <td>-373.402469</td>\n",
       "      <td>8.0</td>\n",
       "    </tr>\n",
       "    <tr>\n",
       "      <th>0</th>\n",
       "      <td>101.0</td>\n",
       "      <td>0.125</td>\n",
       "      <td>-373.337468</td>\n",
       "      <td>7.0</td>\n",
       "    </tr>\n",
       "    <tr>\n",
       "      <th>0</th>\n",
       "      <td>101.0</td>\n",
       "      <td>0.175</td>\n",
       "      <td>-373.309373</td>\n",
       "      <td>6.0</td>\n",
       "    </tr>\n",
       "    <tr>\n",
       "      <th>0</th>\n",
       "      <td>101.0</td>\n",
       "      <td>0.225</td>\n",
       "      <td>-356.344290</td>\n",
       "      <td>4.0</td>\n",
       "    </tr>\n",
       "    <tr>\n",
       "      <th>...</th>\n",
       "      <td>...</td>\n",
       "      <td>...</td>\n",
       "      <td>...</td>\n",
       "      <td>...</td>\n",
       "    </tr>\n",
       "    <tr>\n",
       "      <th>0</th>\n",
       "      <td>150.0</td>\n",
       "      <td>0.725</td>\n",
       "      <td>-219.258230</td>\n",
       "      <td>14.0</td>\n",
       "    </tr>\n",
       "    <tr>\n",
       "      <th>0</th>\n",
       "      <td>150.0</td>\n",
       "      <td>0.775</td>\n",
       "      <td>-219.258265</td>\n",
       "      <td>15.0</td>\n",
       "    </tr>\n",
       "    <tr>\n",
       "      <th>0</th>\n",
       "      <td>150.0</td>\n",
       "      <td>0.825</td>\n",
       "      <td>-219.258297</td>\n",
       "      <td>16.0</td>\n",
       "    </tr>\n",
       "    <tr>\n",
       "      <th>0</th>\n",
       "      <td>150.0</td>\n",
       "      <td>0.875</td>\n",
       "      <td>-219.258324</td>\n",
       "      <td>17.0</td>\n",
       "    </tr>\n",
       "    <tr>\n",
       "      <th>0</th>\n",
       "      <td>150.0</td>\n",
       "      <td>0.925</td>\n",
       "      <td>-219.258349</td>\n",
       "      <td>18.0</td>\n",
       "    </tr>\n",
       "  </tbody>\n",
       "</table>\n",
       "<p>950 rows × 4 columns</p>\n",
       "</div>"
      ],
      "text/plain": [
       "       id      c          ll  rank\n",
       "0   101.0  0.025 -373.716269   9.0\n",
       "0   101.0  0.075 -373.402469   8.0\n",
       "0   101.0  0.125 -373.337468   7.0\n",
       "0   101.0  0.175 -373.309373   6.0\n",
       "0   101.0  0.225 -356.344290   4.0\n",
       "..    ...    ...         ...   ...\n",
       "0   150.0  0.725 -219.258230  14.0\n",
       "0   150.0  0.775 -219.258265  15.0\n",
       "0   150.0  0.825 -219.258297  16.0\n",
       "0   150.0  0.875 -219.258324  17.0\n",
       "0   150.0  0.925 -219.258349  18.0\n",
       "\n",
       "[950 rows x 4 columns]"
      ]
     },
     "execution_count": 91,
     "metadata": {},
     "output_type": "execute_result"
    }
   ],
   "source": [
    "df_results_transfer"
   ]
  },
  {
   "cell_type": "code",
   "execution_count": 98,
   "id": "2221af42",
   "metadata": {
    "ExecuteTime": {
     "end_time": "2023-01-05T15:23:47.549306Z",
     "start_time": "2023-01-05T15:23:47.464711Z"
    }
   },
   "outputs": [],
   "source": [
    "n_reps = df_results_transfer.groupby(\"id\").count().loc[101.0, \"c\"]"
   ]
  },
  {
   "cell_type": "code",
   "execution_count": 99,
   "id": "e8722086",
   "metadata": {
    "ExecuteTime": {
     "end_time": "2023-01-05T15:23:53.528614Z",
     "start_time": "2023-01-05T15:23:53.466132Z"
    }
   },
   "outputs": [],
   "source": [
    "df_results_transfer[\"c_best\"] = np.repeat(best_c, n_reps)\n",
    "df_results_transfer[\"nk\"] = np.repeat(nk, n_reps)"
   ]
  },
  {
   "cell_type": "code",
   "execution_count": 101,
   "id": "a079c77a",
   "metadata": {
    "ExecuteTime": {
     "end_time": "2023-01-05T15:24:32.333064Z",
     "start_time": "2023-01-05T15:24:32.239328Z"
    }
   },
   "outputs": [],
   "source": [
    "df_results_transfer.to_csv(\"data/tbl-results-transfer.csv\")"
   ]
  },
  {
   "cell_type": "code",
   "execution_count": 79,
   "id": "5bad777b",
   "metadata": {
    "ExecuteTime": {
     "end_time": "2023-01-05T15:18:14.530258Z",
     "start_time": "2023-01-05T15:18:14.452208Z"
    }
   },
   "outputs": [
    {
     "data": {
      "text/html": [
       "<div>\n",
       "<style scoped>\n",
       "    .dataframe tbody tr th:only-of-type {\n",
       "        vertical-align: middle;\n",
       "    }\n",
       "\n",
       "    .dataframe tbody tr th {\n",
       "        vertical-align: top;\n",
       "    }\n",
       "\n",
       "    .dataframe thead th {\n",
       "        text-align: right;\n",
       "    }\n",
       "</style>\n",
       "<table border=\"1\" class=\"dataframe\">\n",
       "  <thead>\n",
       "    <tr style=\"text-align: right;\">\n",
       "      <th></th>\n",
       "      <th>id</th>\n",
       "      <th>c</th>\n",
       "      <th>ll</th>\n",
       "      <th>rank</th>\n",
       "    </tr>\n",
       "  </thead>\n",
       "  <tbody>\n",
       "    <tr>\n",
       "      <th>0</th>\n",
       "      <td>101.0</td>\n",
       "      <td>0.025</td>\n",
       "      <td>-373.716269</td>\n",
       "      <td>9.0</td>\n",
       "    </tr>\n",
       "    <tr>\n",
       "      <th>0</th>\n",
       "      <td>101.0</td>\n",
       "      <td>0.075</td>\n",
       "      <td>-373.402469</td>\n",
       "      <td>8.0</td>\n",
       "    </tr>\n",
       "    <tr>\n",
       "      <th>0</th>\n",
       "      <td>101.0</td>\n",
       "      <td>0.125</td>\n",
       "      <td>-373.337468</td>\n",
       "      <td>7.0</td>\n",
       "    </tr>\n",
       "    <tr>\n",
       "      <th>0</th>\n",
       "      <td>101.0</td>\n",
       "      <td>0.175</td>\n",
       "      <td>-373.309373</td>\n",
       "      <td>6.0</td>\n",
       "    </tr>\n",
       "    <tr>\n",
       "      <th>0</th>\n",
       "      <td>101.0</td>\n",
       "      <td>0.225</td>\n",
       "      <td>-356.344290</td>\n",
       "      <td>4.0</td>\n",
       "    </tr>\n",
       "    <tr>\n",
       "      <th>...</th>\n",
       "      <td>...</td>\n",
       "      <td>...</td>\n",
       "      <td>...</td>\n",
       "      <td>...</td>\n",
       "    </tr>\n",
       "    <tr>\n",
       "      <th>0</th>\n",
       "      <td>150.0</td>\n",
       "      <td>0.725</td>\n",
       "      <td>-219.258230</td>\n",
       "      <td>14.0</td>\n",
       "    </tr>\n",
       "    <tr>\n",
       "      <th>0</th>\n",
       "      <td>150.0</td>\n",
       "      <td>0.775</td>\n",
       "      <td>-219.258265</td>\n",
       "      <td>15.0</td>\n",
       "    </tr>\n",
       "    <tr>\n",
       "      <th>0</th>\n",
       "      <td>150.0</td>\n",
       "      <td>0.825</td>\n",
       "      <td>-219.258297</td>\n",
       "      <td>16.0</td>\n",
       "    </tr>\n",
       "    <tr>\n",
       "      <th>0</th>\n",
       "      <td>150.0</td>\n",
       "      <td>0.875</td>\n",
       "      <td>-219.258324</td>\n",
       "      <td>17.0</td>\n",
       "    </tr>\n",
       "    <tr>\n",
       "      <th>0</th>\n",
       "      <td>150.0</td>\n",
       "      <td>0.925</td>\n",
       "      <td>-219.258349</td>\n",
       "      <td>18.0</td>\n",
       "    </tr>\n",
       "  </tbody>\n",
       "</table>\n",
       "<p>950 rows × 4 columns</p>\n",
       "</div>"
      ],
      "text/plain": [
       "       id      c          ll  rank\n",
       "0   101.0  0.025 -373.716269   9.0\n",
       "0   101.0  0.075 -373.402469   8.0\n",
       "0   101.0  0.125 -373.337468   7.0\n",
       "0   101.0  0.175 -373.309373   6.0\n",
       "0   101.0  0.225 -356.344290   4.0\n",
       "..    ...    ...         ...   ...\n",
       "0   150.0  0.725 -219.258230  14.0\n",
       "0   150.0  0.775 -219.258265  15.0\n",
       "0   150.0  0.825 -219.258297  16.0\n",
       "0   150.0  0.875 -219.258324  17.0\n",
       "0   150.0  0.925 -219.258349  18.0\n",
       "\n",
       "[950 rows x 4 columns]"
      ]
     },
     "execution_count": 79,
     "metadata": {},
     "output_type": "execute_result"
    }
   ],
   "source": [
    "df_results_transfer"
   ]
  },
  {
   "cell_type": "code",
   "execution_count": null,
   "id": "d1418eac",
   "metadata": {},
   "outputs": [],
   "source": [
    "l_results_train[0][\"cs\"][c_best_idx]"
   ]
  },
  {
   "cell_type": "markdown",
   "id": "238c8eb9",
   "metadata": {},
   "source": [
    "## Test Individual Participants"
   ]
  },
  {
   "cell_type": "code",
   "execution_count": null,
   "id": "f34603ad",
   "metadata": {
    "ExecuteTime": {
     "end_time": "2023-01-02T12:08:11.908277Z",
     "start_time": "2023-01-02T12:08:11.700061Z"
    }
   },
   "outputs": [],
   "source": [
    "stim_train_101 = tbl_train_small[tbl_train_small[\"participant\"] == 101][[\"d1i\", \"d2i\"]].to_numpy()\n",
    "fb_train_101 = tbl_train_small[tbl_train_small[\"participant\"] == 101][\"category_int\"].to_numpy()"
   ]
  },
  {
   "cell_type": "code",
   "execution_count": null,
   "id": "ab65fb2f",
   "metadata": {
    "ExecuteTime": {
     "end_time": "2023-01-02T12:08:18.850937Z",
     "start_time": "2023-01-02T12:08:14.974415Z"
    }
   },
   "outputs": [],
   "source": [
    "ll, n_clusters, model = ptcl.fit_ll(\n",
    "    np.array([.1]), stim_train_101, fb_train_101\n",
    ")"
   ]
  },
  {
   "cell_type": "code",
   "execution_count": null,
   "id": "a6af6c34",
   "metadata": {
    "ExecuteTime": {
     "end_time": "2023-01-02T12:09:23.851602Z",
     "start_time": "2023-01-02T12:09:23.652853Z"
    }
   },
   "outputs": [],
   "source": [
    "stim_pred = tbl_transfer[tbl_transfer[\"participant\"] == 101][[\"d1i\", \"d2i\"]].to_numpy()[0:20,]"
   ]
  },
  {
   "cell_type": "code",
   "execution_count": null,
   "id": "3a532d00",
   "metadata": {
    "ExecuteTime": {
     "end_time": "2023-01-02T12:09:24.287193Z",
     "start_time": "2023-01-02T12:09:24.011069Z"
    }
   },
   "outputs": [],
   "source": [
    "fb_pred = tbl_transfer[tbl_transfer[\"participant\"] == 101][\"category_int\"].to_numpy()[0:20,]"
   ]
  },
  {
   "cell_type": "code",
   "execution_count": null,
   "id": "18100b92",
   "metadata": {
    "ExecuteTime": {
     "end_time": "2023-01-02T12:21:07.962572Z",
     "start_time": "2023-01-02T12:21:07.819037Z"
    }
   },
   "outputs": [],
   "source": [
    "d_pred = {\"model\": model, \"stimuli\": stim_pred, \"feedback\": fb_pred}"
   ]
  },
  {
   "cell_type": "code",
   "execution_count": null,
   "id": "4bc7fc19",
   "metadata": {
    "ExecuteTime": {
     "end_time": "2023-01-02T12:09:38.259374Z",
     "start_time": "2023-01-02T12:09:25.859703Z"
    },
    "scrolled": true
   },
   "outputs": [],
   "source": [
    "ll, K, model = ptcl.predict_ll(d_pred)"
   ]
  },
  {
   "cell_type": "code",
   "execution_count": null,
   "id": "6ee93b24",
   "metadata": {
    "ExecuteTime": {
     "end_time": "2023-01-02T12:09:58.699670Z",
     "start_time": "2023-01-02T12:09:57.797639Z"
    }
   },
   "outputs": [],
   "source": [
    "ll, K, model = ptcl.predict_ll(model, np.array([[-1000, -1000]]), np.array([[1]]))"
   ]
  },
  {
   "cell_type": "code",
   "execution_count": null,
   "id": "356229be",
   "metadata": {
    "ExecuteTime": {
     "end_time": "2022-12-29T14:02:02.187397Z",
     "start_time": "2022-12-29T14:02:01.948923Z"
    }
   },
   "outputs": [],
   "source": [
    "stimnum = l_results[3][\"model\"][10].register_item(stim, checkduplicate=False)\n",
    "# compute posterior over observed features\n",
    "l_results[3][\"model\"][10].computeposterior(stimnum)"
   ]
  },
  {
   "cell_type": "code",
   "execution_count": null,
   "id": "42c03453",
   "metadata": {
    "ExecuteTime": {
     "end_time": "2022-12-30T10:44:50.575619Z",
     "start_time": "2022-12-30T10:44:50.297300Z"
    }
   },
   "outputs": [],
   "source": [
    "stimnum = l_results[5][\"model\"][10].register_item(stim, checkduplicate=False)\n",
    "# compute posterior over observed features\n",
    "l_results[5][\"model\"][10].computeposterior(stimnum)"
   ]
  },
  {
   "cell_type": "code",
   "execution_count": null,
   "id": "e0f10094",
   "metadata": {
    "ExecuteTime": {
     "end_time": "2022-12-29T13:51:24.090576Z",
     "start_time": "2022-12-29T13:51:23.876852Z"
    }
   },
   "outputs": [],
   "source": [
    "stimnum"
   ]
  },
  {
   "cell_type": "code",
   "execution_count": null,
   "id": "2d2878e0",
   "metadata": {
    "ExecuteTime": {
     "end_time": "2022-12-29T13:53:58.193356Z",
     "start_time": "2022-12-29T13:53:57.976061Z"
    }
   },
   "outputs": [],
   "source": [
    "l_results[0][\"model\"].currentposterior"
   ]
  },
  {
   "cell_type": "code",
   "execution_count": null,
   "id": "4e624085",
   "metadata": {
    "ExecuteTime": {
     "end_time": "2022-12-29T13:51:28.576925Z",
     "start_time": "2022-12-29T13:51:28.340988Z"
    }
   },
   "outputs": [],
   "source": [
    "l_results[0][\"model\"].stims"
   ]
  },
  {
   "cell_type": "code",
   "execution_count": null,
   "id": "b329b42a",
   "metadata": {
    "ExecuteTime": {
     "end_time": "2022-12-29T12:47:51.825704Z",
     "start_time": "2022-12-29T12:47:51.607310Z"
    }
   },
   "outputs": [],
   "source": [
    "l_results[0][\"model\"].additem_particle([3, 2])"
   ]
  },
  {
   "cell_type": "code",
   "execution_count": null,
   "id": "a2492f8f",
   "metadata": {
    "ExecuteTime": {
     "end_time": "2022-12-29T12:48:35.135784Z",
     "start_time": "2022-12-29T12:48:34.927985Z"
    }
   },
   "outputs": [],
   "source": [
    "math.log(l_results[0][\"model\"].plf[-1].flatten(\"C\")[2])"
   ]
  },
  {
   "cell_type": "code",
   "execution_count": null,
   "id": "16930698",
   "metadata": {
    "ExecuteTime": {
     "end_time": "2022-12-29T11:34:51.028032Z",
     "start_time": "2022-12-29T11:34:50.920321Z"
    }
   },
   "outputs": [],
   "source": [
    "p1 = tbl_train[tbl_train[\"participant\"] == 101]"
   ]
  },
  {
   "cell_type": "code",
   "execution_count": null,
   "id": "3ccc4c40",
   "metadata": {
    "ExecuteTime": {
     "end_time": "2022-12-29T11:35:26.318098Z",
     "start_time": "2022-12-29T11:35:26.225521Z"
    }
   },
   "outputs": [],
   "source": [
    "p1 = p1.iloc[0:100,:].copy()\n"
   ]
  },
  {
   "cell_type": "code",
   "execution_count": null,
   "id": "28e30a5e",
   "metadata": {
    "ExecuteTime": {
     "end_time": "2022-12-29T11:36:41.930729Z",
     "start_time": "2022-12-29T11:35:31.561952Z"
    }
   },
   "outputs": [],
   "source": [
    "ptcl.grid_search_particle(p1)"
   ]
  },
  {
   "cell_type": "code",
   "execution_count": null,
   "id": "8f3b03c1",
   "metadata": {
    "ExecuteTime": {
     "start_time": "2022-12-29T11:05:32.074Z"
    }
   },
   "outputs": [],
   "source": [
    "l_results = list(map(ptcl.grid_search_particle, list_to_process_no_names))"
   ]
  },
  {
   "cell_type": "code",
   "execution_count": null,
   "id": "62dbb98c",
   "metadata": {
    "ExecuteTime": {
     "end_time": "2022-12-29T11:04:00.561477Z",
     "start_time": "2022-12-29T11:03:07.080626Z"
    }
   },
   "outputs": [],
   "source": [
    "l_results"
   ]
  },
  {
   "cell_type": "code",
   "execution_count": null,
   "id": "2b934e8c",
   "metadata": {
    "ExecuteTime": {
     "start_time": "2022-12-29T11:29:12.267Z"
    }
   },
   "outputs": [],
   "source": [
    "l_results = ptcl.multiprocessing_grid_search_particle(tbl_train)"
   ]
  },
  {
   "cell_type": "markdown",
   "id": "6f66928d",
   "metadata": {},
   "source": [
    "optimize particle filter\n",
    "- takes too long, though"
   ]
  },
  {
   "cell_type": "markdown",
   "id": "351ac7e3",
   "metadata": {
    "ExecuteTime": {
     "end_time": "2022-12-27T18:16:22.762837Z",
     "start_time": "2022-12-27T18:16:22.676847Z"
    }
   },
   "source": [
    "start_params = np.array([.5])"
   ]
  },
  {
   "cell_type": "markdown",
   "id": "88d3a040",
   "metadata": {
    "ExecuteTime": {
     "end_time": "2022-12-27T18:16:28.422899Z",
     "start_time": "2022-12-27T18:16:28.347686Z"
    }
   },
   "source": [
    "bounds = Bounds([0], [1])"
   ]
  },
  {
   "cell_type": "markdown",
   "id": "e074831a",
   "metadata": {
    "ExecuteTime": {
     "end_time": "2022-12-28T16:52:08.872350Z",
     "start_time": "2022-12-28T16:52:08.754157Z"
    }
   },
   "source": [
    "def wrap_fit_particle(id, tbl_data):\n",
    "    stimuli_subset = tbl_data[tbl_data[\"participant\"] == id][[\"d1i\", \"d2i\"]].to_numpy()\n",
    "    feedback_subset = tbl_data[tbl_data[\"participant\"] == id][\"category\"].to_numpy()\n",
    "    c_seq = np.seq(0.025, 0.975, by=.05)\n",
    "    lls = list()\n",
    "    for c in c_seq:\n",
    "        lls.append(fit_ll(c, stimuli_subset, feedback_subset))\n",
    "    return lls"
   ]
  },
  {
   "cell_type": "markdown",
   "id": "5d1578cb",
   "metadata": {
    "ExecuteTime": {
     "end_time": "2022-12-28T15:40:54.857256Z",
     "start_time": "2022-12-28T15:40:54.648355Z"
    }
   },
   "source": [
    "def wrap_optim(id, tbl_data):\n",
    "    stimuli_subset = tbl_data[tbl_data[\"participant\"] == id][[\"d1i\", \"d2i\"]]\n",
    "    feedback_subset = tbl_data[tbl_data[\"participant\"] == id][\"category\"]\n",
    "    res = minimize(\n",
    "        ptcl.fit_ll, start_params, \n",
    "        args = (stimuli_subset, feedback_subset), \n",
    "        method = \"trust-constr\", bounds=bounds,\n",
    "        options={'gtol': 1e-6, 'disp': True}\n",
    "    )\n",
    "    l_out = [id, res]\n",
    "    return l_out"
   ]
  },
  {
   "cell_type": "markdown",
   "id": "6281656e",
   "metadata": {
    "ExecuteTime": {
     "end_time": "2022-12-28T16:58:54.096136Z",
     "start_time": "2022-12-28T16:58:53.894299Z"
    }
   },
   "source": [
    "wrap_fit_partial = partial(ptcl.grid_search_particle, tbl_data = tbl_train)"
   ]
  },
  {
   "cell_type": "markdown",
   "id": "878ca20a",
   "metadata": {
    "ExecuteTime": {
     "start_time": "2022-12-28T15:42:09.810Z"
    }
   },
   "source": [
    "f_partial = partial(wrap_optim, stimuli=tbl_train, feedback=feedback)\n",
    "p = multiprocessing.Pool(2)\n",
    "list_result = []\n",
    "for x in p.imap(f_partial, participants):\n",
    "    list_result.append(x)"
   ]
  },
  {
   "cell_type": "markdown",
   "id": "f19daa17",
   "metadata": {
    "ExecuteTime": {
     "end_time": "2022-12-27T18:18:26.869863Z",
     "start_time": "2022-12-27T18:16:29.219077Z"
    }
   },
   "source": [
    "res = minimize(\n",
    "    ptcl.fit_ll, start_params, \n",
    "    args = (stimuli_np, feedback_np), \n",
    "    method = \"trust-constr\", bounds=bounds,\n",
    "    options={'gtol': 1e-6, 'disp': True}\n",
    ")"
   ]
  },
  {
   "cell_type": "code",
   "execution_count": null,
   "id": "6466f8a0",
   "metadata": {},
   "outputs": [],
   "source": []
  }
 ],
 "metadata": {
  "kernelspec": {
   "display_name": "Python 3 (ipykernel)",
   "language": "python",
   "name": "python3"
  },
  "language_info": {
   "codemirror_mode": {
    "name": "ipython",
    "version": 3
   },
   "file_extension": ".py",
   "mimetype": "text/x-python",
   "name": "python",
   "nbconvert_exporter": "python",
   "pygments_lexer": "ipython3",
   "version": "3.10.8"
  },
  "toc": {
   "base_numbering": 1,
   "nav_menu": {},
   "number_sections": true,
   "sideBar": true,
   "skip_h1_title": false,
   "title_cell": "Table of Contents",
   "title_sidebar": "Contents",
   "toc_cell": true,
   "toc_position": {},
   "toc_section_display": true,
   "toc_window_display": false
  }
 },
 "nbformat": 4,
 "nbformat_minor": 5
}
