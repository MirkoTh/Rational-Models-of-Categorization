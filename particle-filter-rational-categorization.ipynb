{
 "cells": [
  {
   "cell_type": "markdown",
   "id": "2874e10c",
   "metadata": {
    "toc": true
   },
   "source": [
    "<h1>Table of Contents<span class=\"tocSkip\"></span></h1>\n",
    "<div class=\"toc\"><ul class=\"toc-item\"><li><span><a href=\"#Testing-of-Code\" data-toc-modified-id=\"Testing-of-Code-1\"><span class=\"toc-item-num\">1&nbsp;&nbsp;</span>Testing of Code</a></span></li><li><span><a href=\"#Fit-the-Particle-Filter\" data-toc-modified-id=\"Fit-the-Particle-Filter-2\"><span class=\"toc-item-num\">2&nbsp;&nbsp;</span>Fit the Particle Filter</a></span></li></ul></div>"
   ]
  },
  {
   "cell_type": "markdown",
   "id": "b3b4c971",
   "metadata": {},
   "source": [
    "# Testing of Code"
   ]
  },
  {
   "cell_type": "code",
   "execution_count": 1,
   "id": "ef4db818",
   "metadata": {
    "ExecuteTime": {
     "end_time": "2022-12-29T12:04:02.726989Z",
     "start_time": "2022-12-29T12:03:59.093249Z"
    }
   },
   "outputs": [],
   "source": [
    "import numpy as np\n",
    "import pandas as pd\n",
    "import matplotlib.pyplot as plt\n",
    "from scipy.stats import distributions as dist\n",
    "from collections import Counter\n",
    "from scipy.optimize import minimize, Bounds\n",
    "import math"
   ]
  },
  {
   "cell_type": "code",
   "execution_count": 2,
   "id": "0e4b137b",
   "metadata": {
    "ExecuteTime": {
     "end_time": "2022-12-29T12:04:02.758310Z",
     "start_time": "2022-12-29T12:04:02.732812Z"
    }
   },
   "outputs": [],
   "source": [
    "from functools import partial\n",
    "from multiprocessing import Pool"
   ]
  },
  {
   "cell_type": "code",
   "execution_count": 3,
   "id": "c54a8f83",
   "metadata": {
    "ExecuteTime": {
     "end_time": "2022-12-29T12:04:02.976045Z",
     "start_time": "2022-12-29T12:04:02.768260Z"
    }
   },
   "outputs": [],
   "source": [
    "%load_ext autoreload\n",
    "%autoreload 2"
   ]
  },
  {
   "cell_type": "code",
   "execution_count": 4,
   "id": "f5b20e4e",
   "metadata": {
    "ExecuteTime": {
     "end_time": "2022-12-29T12:04:03.287024Z",
     "start_time": "2022-12-29T12:04:02.984124Z"
    }
   },
   "outputs": [],
   "source": [
    "from models import particle as ptcl"
   ]
  },
  {
   "cell_type": "code",
   "execution_count": 5,
   "id": "3e16f3fe",
   "metadata": {
    "ExecuteTime": {
     "end_time": "2022-12-29T12:04:03.488426Z",
     "start_time": "2022-12-29T12:04:03.292370Z"
    }
   },
   "outputs": [],
   "source": [
    "run = 0\n",
    "stims, labels = ptcl.get_zmstims(400)\n",
    "types = \"cc\"\n",
    "Cparam = 0.65\n",
    "mu0 = np.mean(stims, 0)\n",
    "sigma0 = np.var(stims, 0)\n",
    "lambda0 = np.ones(len(stims[0]))\n",
    "a0 = np.ones(len(stims[0]))\n",
    "n_labels = 4\n",
    "feedback = [1, 2, 3, 1, 2, 2, 2, 4, 3, 1]\n",
    "\n",
    "args = [Cparam, mu0, sigma0, lambda0, a0, types, n_labels, feedback]\n",
    "\n",
    "model = ptcl.RationalParticle(args, decision = \"MAP\")"
   ]
  },
  {
   "cell_type": "code",
   "execution_count": 6,
   "id": "077a5ecb",
   "metadata": {
    "ExecuteTime": {
     "end_time": "2022-12-29T12:04:03.627917Z",
     "start_time": "2022-12-29T12:04:03.491442Z"
    }
   },
   "outputs": [],
   "source": [
    "model.N = 1\n",
    "model.partition = [0]"
   ]
  },
  {
   "cell_type": "code",
   "execution_count": 7,
   "id": "e2deb470",
   "metadata": {
    "ExecuteTime": {
     "end_time": "2022-12-29T12:04:03.818042Z",
     "start_time": "2022-12-29T12:04:03.632485Z"
    }
   },
   "outputs": [
    {
     "data": {
      "text/plain": [
       "array([0.25, 0.25, 0.25, 0.25])"
      ]
     },
     "execution_count": 7,
     "metadata": {},
     "output_type": "execute_result"
    }
   ],
   "source": [
    "model.labelprob()"
   ]
  },
  {
   "cell_type": "code",
   "execution_count": 8,
   "id": "f836dd6b",
   "metadata": {
    "ExecuteTime": {
     "end_time": "2022-12-29T12:04:03.975134Z",
     "start_time": "2022-12-29T12:04:03.822055Z"
    }
   },
   "outputs": [],
   "source": [
    "model.N = 2\n",
    "model.partition = [0, 0]"
   ]
  },
  {
   "cell_type": "code",
   "execution_count": 9,
   "id": "d997f42c",
   "metadata": {
    "ExecuteTime": {
     "end_time": "2022-12-29T12:04:04.147479Z",
     "start_time": "2022-12-29T12:04:03.981501Z"
    }
   },
   "outputs": [
    {
     "data": {
      "text/plain": [
       "array([[0.4 , 0.2 , 0.2 , 0.2 ],\n",
       "       [0.25, 0.25, 0.25, 0.25]])"
      ]
     },
     "execution_count": 9,
     "metadata": {},
     "output_type": "execute_result"
    }
   ],
   "source": [
    "model.labelprob()"
   ]
  },
  {
   "cell_type": "markdown",
   "id": "fa1a54ea",
   "metadata": {},
   "source": [
    "# Fit the Particle Filter"
   ]
  },
  {
   "cell_type": "code",
   "execution_count": 10,
   "id": "cf2087ef",
   "metadata": {
    "ExecuteTime": {
     "end_time": "2022-12-29T12:04:04.271058Z",
     "start_time": "2022-12-29T12:04:04.151396Z"
    }
   },
   "outputs": [],
   "source": [
    "import pandas as pd"
   ]
  },
  {
   "cell_type": "code",
   "execution_count": 11,
   "id": "fa3c0da8",
   "metadata": {
    "ExecuteTime": {
     "end_time": "2022-12-29T12:04:04.600372Z",
     "start_time": "2022-12-29T12:04:04.276914Z"
    }
   },
   "outputs": [],
   "source": [
    "tbl_train = pd.read_csv(\"data/tbl_train.csv\")\n",
    "tbl_transfer = pd.read_csv(\"data/tbl_transfer.csv\")"
   ]
  },
  {
   "cell_type": "code",
   "execution_count": 12,
   "id": "a2481c9b",
   "metadata": {
    "ExecuteTime": {
     "end_time": "2022-12-29T12:04:04.724617Z",
     "start_time": "2022-12-29T12:04:04.607356Z"
    }
   },
   "outputs": [],
   "source": [
    "stimuli = tbl_train[tbl_train[\"participant\"] == 102][[\"d1i\", \"d2i\"]].iloc[0:100, ]\n",
    "feedback = tbl_train[tbl_train[\"participant\"] == 102][\"category\"].iloc[0:100]\n",
    "# use integer labels\n",
    "feedback.replace({\"A\":1, \"B\":2, \"C\":3}, inplace=True)"
   ]
  },
  {
   "cell_type": "markdown",
   "id": "2a3f6bc5",
   "metadata": {},
   "source": [
    "fit only c parameter, keep others fixed"
   ]
  },
  {
   "cell_type": "markdown",
   "id": "6dadb6f5",
   "metadata": {
    "ExecuteTime": {
     "end_time": "2022-12-27T18:16:22.762837Z",
     "start_time": "2022-12-27T18:16:22.676847Z"
    }
   },
   "source": [
    "start_params = np.array([.5])"
   ]
  },
  {
   "cell_type": "markdown",
   "id": "a76e2f8e",
   "metadata": {
    "ExecuteTime": {
     "end_time": "2022-12-27T18:16:28.422899Z",
     "start_time": "2022-12-27T18:16:28.347686Z"
    }
   },
   "source": [
    "bounds = Bounds([0], [1])"
   ]
  },
  {
   "cell_type": "markdown",
   "id": "18c06be9",
   "metadata": {
    "ExecuteTime": {
     "end_time": "2022-12-28T15:40:54.857256Z",
     "start_time": "2022-12-28T15:40:54.648355Z"
    }
   },
   "source": [
    "def wrap_optim(id, tbl_data):\n",
    "    stimuli_subset = tbl_data[tbl_data[\"participant\"] == id][[\"d1i\", \"d2i\"]]\n",
    "    feedback_subset = tbl_data[tbl_data[\"participant\"] == id][\"category\"]\n",
    "    res = minimize(\n",
    "        ptcl.fit_ll, start_params, \n",
    "        args = (stimuli_subset, feedback_subset), \n",
    "        method = \"trust-constr\", bounds=bounds,\n",
    "        options={'gtol': 1e-6, 'disp': True}\n",
    "    )\n",
    "    l_out = [id, res]\n",
    "    return l_out"
   ]
  },
  {
   "cell_type": "markdown",
   "id": "aeb2b1fd",
   "metadata": {
    "ExecuteTime": {
     "start_time": "2022-12-28T15:42:09.810Z"
    }
   },
   "source": [
    "f_partial = partial(wrap_optim, stimuli=tbl_train, feedback=feedback)\n",
    "p = multiprocessing.Pool(2)\n",
    "list_result = []\n",
    "for x in p.imap(f_partial, participants):\n",
    "    list_result.append(x)"
   ]
  },
  {
   "cell_type": "code",
   "execution_count": 13,
   "id": "eee2733d",
   "metadata": {
    "ExecuteTime": {
     "end_time": "2022-12-29T12:04:04.927977Z",
     "start_time": "2022-12-29T12:04:04.728853Z"
    }
   },
   "outputs": [],
   "source": [
    "participants = tbl_train[\"participant\"].unique()[0:2]"
   ]
  },
  {
   "cell_type": "markdown",
   "id": "43114841",
   "metadata": {
    "ExecuteTime": {
     "end_time": "2022-12-28T16:52:08.872350Z",
     "start_time": "2022-12-28T16:52:08.754157Z"
    }
   },
   "source": [
    "def wrap_fit_particle(id, tbl_data):\n",
    "    stimuli_subset = tbl_data[tbl_data[\"participant\"] == id][[\"d1i\", \"d2i\"]].to_numpy()\n",
    "    feedback_subset = tbl_data[tbl_data[\"participant\"] == id][\"category\"].to_numpy()\n",
    "    c_seq = np.seq(0.025, 0.975, by=.05)\n",
    "    lls = list()\n",
    "    for c in c_seq:\n",
    "        lls.append(fit_ll(c, stimuli_subset, feedback_subset))\n",
    "    return lls"
   ]
  },
  {
   "cell_type": "markdown",
   "id": "a9f1c620",
   "metadata": {
    "ExecuteTime": {
     "end_time": "2022-12-28T16:58:54.096136Z",
     "start_time": "2022-12-28T16:58:53.894299Z"
    }
   },
   "source": [
    "wrap_fit_partial = partial(ptcl.grid_search_particle, tbl_data = tbl_train)"
   ]
  },
  {
   "cell_type": "code",
   "execution_count": 14,
   "id": "bfd44117",
   "metadata": {
    "ExecuteTime": {
     "end_time": "2022-12-29T12:04:05.175656Z",
     "start_time": "2022-12-29T12:04:04.935958Z"
    }
   },
   "outputs": [],
   "source": [
    "list_to_process_no_names = [group for name, group in tbl_train.groupby(\"participant\")]"
   ]
  },
  {
   "cell_type": "code",
   "execution_count": 15,
   "id": "68d08ebe",
   "metadata": {
    "ExecuteTime": {
     "end_time": "2022-12-29T12:04:05.428251Z",
     "start_time": "2022-12-29T12:04:05.181680Z"
    }
   },
   "outputs": [],
   "source": [
    "tbl_train[\"trial_id\"] = tbl_train.groupby(\"participant\").cumcount()+1"
   ]
  },
  {
   "cell_type": "code",
   "execution_count": 16,
   "id": "c906725e",
   "metadata": {
    "ExecuteTime": {
     "end_time": "2022-12-29T12:04:05.680107Z",
     "start_time": "2022-12-29T12:04:05.434265Z"
    }
   },
   "outputs": [],
   "source": [
    "tbl_train_small = tbl_train[tbl_train[\"trial_id\"] < 50].copy()"
   ]
  },
  {
   "cell_type": "code",
   "execution_count": 18,
   "id": "f37485d3",
   "metadata": {
    "ExecuteTime": {
     "end_time": "2022-12-29T12:05:33.310637Z",
     "start_time": "2022-12-29T12:04:19.511890Z"
    }
   },
   "outputs": [
    {
     "name": "stderr",
     "output_type": "stream",
     "text": [
      "100%|████████████████████████████████████████████████████████████████████| 6/6 [00:00<00:00, 34.34it/s]\n"
     ]
    }
   ],
   "source": [
    "l_results = ptcl.multiprocessing_grid_search_particle(tbl_train_small)"
   ]
  },
  {
   "cell_type": "code",
   "execution_count": null,
   "id": "16930698",
   "metadata": {
    "ExecuteTime": {
     "end_time": "2022-12-29T11:34:51.028032Z",
     "start_time": "2022-12-29T11:34:50.920321Z"
    }
   },
   "outputs": [],
   "source": [
    "p1 = tbl_train[tbl_train[\"participant\"] == 101]"
   ]
  },
  {
   "cell_type": "code",
   "execution_count": null,
   "id": "0ac096ff",
   "metadata": {
    "ExecuteTime": {
     "end_time": "2022-12-29T11:35:26.318098Z",
     "start_time": "2022-12-29T11:35:26.225521Z"
    }
   },
   "outputs": [],
   "source": [
    "p1 = p1.iloc[0:100,:].copy()\n"
   ]
  },
  {
   "cell_type": "code",
   "execution_count": null,
   "id": "28e30a5e",
   "metadata": {
    "ExecuteTime": {
     "end_time": "2022-12-29T11:36:41.930729Z",
     "start_time": "2022-12-29T11:35:31.561952Z"
    }
   },
   "outputs": [],
   "source": [
    "ptcl.grid_search_particle(p1)"
   ]
  },
  {
   "cell_type": "code",
   "execution_count": null,
   "id": "8f3b03c1",
   "metadata": {
    "ExecuteTime": {
     "start_time": "2022-12-29T11:05:32.074Z"
    }
   },
   "outputs": [],
   "source": [
    "l_results = list(map(ptcl.grid_search_particle, list_to_process_no_names))"
   ]
  },
  {
   "cell_type": "code",
   "execution_count": null,
   "id": "62dbb98c",
   "metadata": {
    "ExecuteTime": {
     "end_time": "2022-12-29T11:04:00.561477Z",
     "start_time": "2022-12-29T11:03:07.080626Z"
    }
   },
   "outputs": [],
   "source": [
    "l_results"
   ]
  },
  {
   "cell_type": "code",
   "execution_count": null,
   "id": "876ac20b",
   "metadata": {
    "ExecuteTime": {
     "start_time": "2022-12-29T11:29:12.267Z"
    }
   },
   "outputs": [],
   "source": [
    "l_results = ptcl.multiprocessing_grid_search_particle(tbl_train)"
   ]
  },
  {
   "cell_type": "markdown",
   "id": "6f66928d",
   "metadata": {},
   "source": [
    "optimize particle filter\n",
    "- takes too long, though"
   ]
  },
  {
   "cell_type": "code",
   "execution_count": null,
   "id": "028e3428",
   "metadata": {
    "ExecuteTime": {
     "end_time": "2022-12-27T18:18:26.869863Z",
     "start_time": "2022-12-27T18:16:29.219077Z"
    }
   },
   "outputs": [],
   "source": [
    "res = minimize(\n",
    "    ptcl.fit_ll, start_params, \n",
    "    args = (stimuli_np, feedback_np), \n",
    "    method = \"trust-constr\", bounds=bounds,\n",
    "    options={'gtol': 1e-6, 'disp': True}\n",
    ")"
   ]
  },
  {
   "cell_type": "code",
   "execution_count": null,
   "id": "6e4e53b1",
   "metadata": {
    "ExecuteTime": {
     "end_time": "2022-12-27T18:18:26.965957Z",
     "start_time": "2022-12-27T18:18:26.871861Z"
    }
   },
   "outputs": [],
   "source": [
    "res"
   ]
  },
  {
   "cell_type": "code",
   "execution_count": null,
   "id": "07099a79",
   "metadata": {
    "ExecuteTime": {
     "end_time": "2022-12-29T10:32:03.798817Z",
     "start_time": "2022-12-29T10:32:03.588755Z"
    }
   },
   "outputs": [],
   "source": [
    "participants.tolist()"
   ]
  },
  {
   "cell_type": "code",
   "execution_count": null,
   "id": "df9a706c",
   "metadata": {
    "ExecuteTime": {
     "start_time": "2022-12-29T11:05:32.074Z"
    }
   },
   "outputs": [],
   "source": [
    "l_results = list(map(ptcl.grid_search_particle, list_to_process_no_names[0:2]))"
   ]
  },
  {
   "cell_type": "code",
   "execution_count": null,
   "id": "6466f8a0",
   "metadata": {},
   "outputs": [],
   "source": []
  }
 ],
 "metadata": {
  "kernelspec": {
   "display_name": "Python 3 (ipykernel)",
   "language": "python",
   "name": "python3"
  },
  "language_info": {
   "codemirror_mode": {
    "name": "ipython",
    "version": 3
   },
   "file_extension": ".py",
   "mimetype": "text/x-python",
   "name": "python",
   "nbconvert_exporter": "python",
   "pygments_lexer": "ipython3",
   "version": "3.10.8"
  },
  "toc": {
   "base_numbering": 1,
   "nav_menu": {},
   "number_sections": true,
   "sideBar": true,
   "skip_h1_title": false,
   "title_cell": "Table of Contents",
   "title_sidebar": "Contents",
   "toc_cell": true,
   "toc_position": {},
   "toc_section_display": true,
   "toc_window_display": false
  }
 },
 "nbformat": 4,
 "nbformat_minor": 5
}
