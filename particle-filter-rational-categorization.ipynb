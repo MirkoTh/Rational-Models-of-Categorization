{
 "cells": [
  {
   "cell_type": "markdown",
   "id": "2874e10c",
   "metadata": {
    "toc": true
   },
   "source": [
    "<h1>Table of Contents<span class=\"tocSkip\"></span></h1>\n",
    "<div class=\"toc\"><ul class=\"toc-item\"><li><span><a href=\"#Testing-of-Code\" data-toc-modified-id=\"Testing-of-Code-1\"><span class=\"toc-item-num\">1&nbsp;&nbsp;</span>Testing of Code</a></span></li><li><span><a href=\"#Fit-the-Particle-Filter\" data-toc-modified-id=\"Fit-the-Particle-Filter-2\"><span class=\"toc-item-num\">2&nbsp;&nbsp;</span>Fit the Particle Filter</a></span><ul class=\"toc-item\"><li><span><a href=\"#Parallelize-All-Participants\" data-toc-modified-id=\"Parallelize-All-Participants-2.1\"><span class=\"toc-item-num\">2.1&nbsp;&nbsp;</span>Parallelize All Participants</a></span></li><li><span><a href=\"#Test-Individual-Participants\" data-toc-modified-id=\"Test-Individual-Participants-2.2\"><span class=\"toc-item-num\">2.2&nbsp;&nbsp;</span>Test Individual Participants</a></span></li></ul></li></ul></div>"
   ]
  },
  {
   "cell_type": "markdown",
   "id": "b3b4c971",
   "metadata": {},
   "source": [
    "# Testing of Code"
   ]
  },
  {
   "cell_type": "code",
   "execution_count": 1,
   "id": "ef4db818",
   "metadata": {
    "ExecuteTime": {
     "end_time": "2023-01-02T08:17:11.224957Z",
     "start_time": "2023-01-02T08:17:06.252779Z"
    }
   },
   "outputs": [],
   "source": [
    "import numpy as np\n",
    "import pandas as pd\n",
    "import matplotlib.pyplot as plt\n",
    "from scipy.stats import distributions as dist\n",
    "from collections import Counter\n",
    "from scipy.optimize import minimize, Bounds\n",
    "import math"
   ]
  },
  {
   "cell_type": "code",
   "execution_count": 2,
   "id": "0e4b137b",
   "metadata": {
    "ExecuteTime": {
     "end_time": "2023-01-02T08:17:11.287701Z",
     "start_time": "2023-01-02T08:17:11.238836Z"
    }
   },
   "outputs": [],
   "source": [
    "from functools import partial, reduce\n",
    "from multiprocessing import Pool"
   ]
  },
  {
   "cell_type": "code",
   "execution_count": 3,
   "id": "c54a8f83",
   "metadata": {
    "ExecuteTime": {
     "end_time": "2023-01-02T08:17:11.584843Z",
     "start_time": "2023-01-02T08:17:11.299957Z"
    }
   },
   "outputs": [],
   "source": [
    "%load_ext autoreload\n",
    "%autoreload 2"
   ]
  },
  {
   "cell_type": "code",
   "execution_count": 4,
   "id": "f5b20e4e",
   "metadata": {
    "ExecuteTime": {
     "end_time": "2023-01-02T08:17:11.895694Z",
     "start_time": "2023-01-02T08:17:11.597548Z"
    }
   },
   "outputs": [],
   "source": [
    "from models import particle as ptcl"
   ]
  },
  {
   "cell_type": "code",
   "execution_count": 5,
   "id": "3e16f3fe",
   "metadata": {
    "ExecuteTime": {
     "end_time": "2023-01-02T08:17:12.237690Z",
     "start_time": "2023-01-02T08:17:11.901677Z"
    }
   },
   "outputs": [],
   "source": [
    "run = 0\n",
    "stims, labels = ptcl.get_zmstims(400)\n",
    "types = \"cc\"\n",
    "Cparam = 0.65\n",
    "mu0 = np.mean(stims, 0)\n",
    "sigma0 = np.var(stims, 0)\n",
    "lambda0 = np.ones(len(stims[0]))\n",
    "a0 = np.ones(len(stims[0]))\n",
    "n_labels = 4\n",
    "feedback = [1, 2, 3, 1, 2, 2, 2, 4, 3, 1]\n",
    "\n",
    "args = [Cparam, mu0, sigma0, lambda0, a0, types, n_labels, feedback]\n",
    "\n",
    "model = ptcl.RationalParticle(args, decision = \"MAP\")"
   ]
  },
  {
   "cell_type": "code",
   "execution_count": 6,
   "id": "077a5ecb",
   "metadata": {
    "ExecuteTime": {
     "end_time": "2023-01-02T08:17:12.476619Z",
     "start_time": "2023-01-02T08:17:12.244643Z"
    }
   },
   "outputs": [],
   "source": [
    "model.N = 1\n",
    "model.partition = [0]"
   ]
  },
  {
   "cell_type": "code",
   "execution_count": 7,
   "id": "e2deb470",
   "metadata": {
    "ExecuteTime": {
     "end_time": "2023-01-02T08:17:12.712106Z",
     "start_time": "2023-01-02T08:17:12.483599Z"
    }
   },
   "outputs": [
    {
     "data": {
      "text/plain": [
       "array([0.25, 0.25, 0.25, 0.25])"
      ]
     },
     "execution_count": 7,
     "metadata": {},
     "output_type": "execute_result"
    }
   ],
   "source": [
    "model.labelprob()"
   ]
  },
  {
   "cell_type": "code",
   "execution_count": 8,
   "id": "f836dd6b",
   "metadata": {
    "ExecuteTime": {
     "end_time": "2023-01-02T08:17:13.011740Z",
     "start_time": "2023-01-02T08:17:12.718330Z"
    }
   },
   "outputs": [],
   "source": [
    "model.N = 2\n",
    "model.partition = [0, 0]"
   ]
  },
  {
   "cell_type": "code",
   "execution_count": 9,
   "id": "d997f42c",
   "metadata": {
    "ExecuteTime": {
     "end_time": "2023-01-02T08:17:13.293342Z",
     "start_time": "2023-01-02T08:17:13.017831Z"
    }
   },
   "outputs": [
    {
     "data": {
      "text/plain": [
       "array([[0.25, 0.25, 0.25, 0.25],\n",
       "       [0.25, 0.25, 0.25, 0.25]])"
      ]
     },
     "execution_count": 9,
     "metadata": {},
     "output_type": "execute_result"
    }
   ],
   "source": [
    "model.labelprob()"
   ]
  },
  {
   "cell_type": "markdown",
   "id": "fa1a54ea",
   "metadata": {},
   "source": [
    "# Fit the Particle Filter"
   ]
  },
  {
   "cell_type": "markdown",
   "id": "75803d22",
   "metadata": {},
   "source": [
    "Model Selection Logic:\n",
    "1. run training trials with the model; feedback is provided, therefore, the label counts are updated according to the true category label during training\n",
    "2. replicate 1. with several values for c and return all models\n",
    "3. make predictions on hold out transfer data for all combinations\n",
    "4. select best fitting c parameter for every participant"
   ]
  },
  {
   "cell_type": "markdown",
   "id": "863e12cc",
   "metadata": {},
   "source": [
    "nb. fit only c parameter, keep others fixed"
   ]
  },
  {
   "cell_type": "code",
   "execution_count": 260,
   "id": "fa3c0da8",
   "metadata": {
    "ExecuteTime": {
     "end_time": "2023-01-02T12:04:45.230751Z",
     "start_time": "2023-01-02T12:04:44.937371Z"
    }
   },
   "outputs": [],
   "source": [
    "tbl_train = pd.read_csv(\"data/tbl_train.csv\")\n",
    "tbl_transfer = pd.read_csv(\"data/tbl_transfer.csv\")"
   ]
  },
  {
   "cell_type": "code",
   "execution_count": 261,
   "id": "b5b1db41",
   "metadata": {
    "ExecuteTime": {
     "end_time": "2023-01-02T12:04:45.371262Z",
     "start_time": "2023-01-02T12:04:45.234386Z"
    }
   },
   "outputs": [],
   "source": [
    "tbl_train[\"trial_id\"] = tbl_train.groupby(\"participant\").cumcount()+1"
   ]
  },
  {
   "cell_type": "code",
   "execution_count": 396,
   "id": "4cd51396",
   "metadata": {
    "ExecuteTime": {
     "end_time": "2023-01-02T15:59:13.401377Z",
     "start_time": "2023-01-02T15:59:13.314494Z"
    },
    "scrolled": true
   },
   "outputs": [
    {
     "data": {
      "text/plain": [
       "participant\n",
       "147    992\n",
       "108    992\n",
       "129    992\n",
       "113    992\n",
       "124    992\n",
       "104    992\n",
       "106    991\n",
       "107    991\n",
       "105    991\n",
       "109    991\n",
       "130    991\n",
       "136    991\n",
       "143    991\n",
       "134    991\n",
       "138    991\n",
       "117    991\n",
       "142    990\n",
       "131    990\n",
       "135    990\n",
       "150    990\n",
       "119    990\n",
       "149    990\n",
       "121    989\n",
       "123    989\n",
       "115    989\n",
       "127    989\n",
       "128    989\n",
       "146    989\n",
       "133    989\n",
       "122    988\n",
       "118    988\n",
       "111    988\n",
       "144    987\n",
       "126    987\n",
       "132    987\n",
       "110    987\n",
       "125    986\n",
       "141    986\n",
       "120    984\n",
       "139    982\n",
       "112    944\n",
       "103    843\n",
       "101    830\n",
       "116    799\n",
       "145    798\n",
       "148    798\n",
       "114    752\n",
       "102    603\n",
       "140    367\n",
       "137    271\n",
       "dtype: int64"
      ]
     },
     "execution_count": 396,
     "metadata": {},
     "output_type": "execute_result"
    }
   ],
   "source": [
    "tbl_train.value_counts(\"participant\")"
   ]
  },
  {
   "cell_type": "code",
   "execution_count": 268,
   "id": "bcb2ef90",
   "metadata": {
    "ExecuteTime": {
     "end_time": "2023-01-02T12:05:41.212989Z",
     "start_time": "2023-01-02T12:05:41.051525Z"
    }
   },
   "outputs": [],
   "source": [
    "tbl_train_small = tbl_train[tbl_train[\"trial_id\"] < 40].copy()"
   ]
  },
  {
   "cell_type": "code",
   "execution_count": 273,
   "id": "544aa01b",
   "metadata": {
    "ExecuteTime": {
     "end_time": "2023-01-02T12:05:51.261631Z",
     "start_time": "2023-01-02T12:05:51.134874Z"
    }
   },
   "outputs": [
    {
     "data": {
      "text/plain": [
       "array([3, 1, 2], dtype=int64)"
      ]
     },
     "execution_count": 273,
     "metadata": {},
     "output_type": "execute_result"
    }
   ],
   "source": [
    "tbl_train_small[tbl_train_small[\"participant\"] == 104][\"category_int\"].unique()"
   ]
  },
  {
   "cell_type": "markdown",
   "id": "ecb4099e",
   "metadata": {},
   "source": [
    "## Parallelize All Participants"
   ]
  },
  {
   "cell_type": "code",
   "execution_count": 330,
   "id": "06c40cb5",
   "metadata": {
    "ExecuteTime": {
     "end_time": "2023-01-02T13:18:23.915258Z",
     "start_time": "2023-01-02T13:17:57.055936Z"
    },
    "scrolled": true
   },
   "outputs": [
    {
     "name": "stderr",
     "output_type": "stream",
     "text": [
      "100%|████████████████████████████████████████████████████████████████████| 4/4 [00:00<00:00, 25.07it/s]\n"
     ]
    }
   ],
   "source": [
    "l_results_train = ptcl.multiprocessing_grid_search_particle(tbl_train_small)"
   ]
  },
  {
   "cell_type": "code",
   "execution_count": 374,
   "id": "f43b1c14",
   "metadata": {
    "ExecuteTime": {
     "end_time": "2023-01-02T15:25:51.355325Z",
     "start_time": "2023-01-02T15:25:51.143687Z"
    }
   },
   "outputs": [],
   "source": [
    "for l in l_results_train:\n",
    "    l[\"tbl_transfer\"] = tbl_transfer[tbl_transfer[\"participant\"] == l[\"id\"]].head(40)"
   ]
  },
  {
   "cell_type": "markdown",
   "id": "a1a2a558",
   "metadata": {},
   "source": [
    "37 seconds with 20 data points\n",
    "\n",
    "143 seconds with 40 data points"
   ]
  },
  {
   "cell_type": "code",
   "execution_count": 375,
   "id": "34976640",
   "metadata": {
    "ExecuteTime": {
     "end_time": "2023-01-02T15:28:41.617469Z",
     "start_time": "2023-01-02T15:26:18.541476Z"
    }
   },
   "outputs": [
    {
     "name": "stderr",
     "output_type": "stream",
     "text": [
      "100%|████████████████████████████████████████████████████████████████████| 4/4 [00:00<00:00, 18.04it/s]\n"
     ]
    }
   ],
   "source": [
    "l_results_transfer = ptcl.multiprocessing_prediction(l_results)"
   ]
  },
  {
   "cell_type": "code",
   "execution_count": 376,
   "id": "d188bff9",
   "metadata": {
    "ExecuteTime": {
     "end_time": "2023-01-02T15:29:24.419979Z",
     "start_time": "2023-01-02T15:29:24.201270Z"
    },
    "scrolled": true
   },
   "outputs": [],
   "source": [
    "df_results_transfer = reduce(lambda x, y: pd.concat([x, y]), l_results_transfer)"
   ]
  },
  {
   "cell_type": "code",
   "execution_count": 378,
   "id": "bddc8594",
   "metadata": {
    "ExecuteTime": {
     "end_time": "2023-01-02T15:29:34.074338Z",
     "start_time": "2023-01-02T15:29:33.878716Z"
    }
   },
   "outputs": [],
   "source": [
    "df_results_transfer[\"rank\"] = df_results_transfer.groupby(\"id\")[\"ll\"].rank(ascending=False)"
   ]
  },
  {
   "cell_type": "code",
   "execution_count": 389,
   "id": "6bf58501",
   "metadata": {
    "ExecuteTime": {
     "end_time": "2023-01-02T15:42:49.093437Z",
     "start_time": "2023-01-02T15:42:48.996655Z"
    }
   },
   "outputs": [
    {
     "data": {
      "text/html": [
       "<div>\n",
       "<style scoped>\n",
       "    .dataframe tbody tr th:only-of-type {\n",
       "        vertical-align: middle;\n",
       "    }\n",
       "\n",
       "    .dataframe tbody tr th {\n",
       "        vertical-align: top;\n",
       "    }\n",
       "\n",
       "    .dataframe thead th {\n",
       "        text-align: right;\n",
       "    }\n",
       "</style>\n",
       "<table border=\"1\" class=\"dataframe\">\n",
       "  <thead>\n",
       "    <tr style=\"text-align: right;\">\n",
       "      <th></th>\n",
       "      <th>id</th>\n",
       "      <th>c</th>\n",
       "      <th>ll</th>\n",
       "      <th>rank</th>\n",
       "    </tr>\n",
       "  </thead>\n",
       "  <tbody>\n",
       "    <tr>\n",
       "      <th>0</th>\n",
       "      <td>103.0</td>\n",
       "      <td>0.375</td>\n",
       "      <td>-29.041927</td>\n",
       "      <td>1.0</td>\n",
       "    </tr>\n",
       "    <tr>\n",
       "      <th>0</th>\n",
       "      <td>104.0</td>\n",
       "      <td>0.475</td>\n",
       "      <td>-32.535299</td>\n",
       "      <td>1.0</td>\n",
       "    </tr>\n",
       "    <tr>\n",
       "      <th>0</th>\n",
       "      <td>101.0</td>\n",
       "      <td>0.425</td>\n",
       "      <td>-31.319083</td>\n",
       "      <td>1.0</td>\n",
       "    </tr>\n",
       "    <tr>\n",
       "      <th>0</th>\n",
       "      <td>102.0</td>\n",
       "      <td>0.425</td>\n",
       "      <td>-40.441596</td>\n",
       "      <td>1.0</td>\n",
       "    </tr>\n",
       "  </tbody>\n",
       "</table>\n",
       "</div>"
      ],
      "text/plain": [
       "      id      c         ll  rank\n",
       "0  103.0  0.375 -29.041927   1.0\n",
       "0  104.0  0.475 -32.535299   1.0\n",
       "0  101.0  0.425 -31.319083   1.0\n",
       "0  102.0  0.425 -40.441596   1.0"
      ]
     },
     "execution_count": 389,
     "metadata": {},
     "output_type": "execute_result"
    }
   ],
   "source": [
    "df_results_transfer.sort_values(\"rank\").head(4)"
   ]
  },
  {
   "cell_type": "code",
   "execution_count": 392,
   "id": "e1e6e919",
   "metadata": {
    "ExecuteTime": {
     "end_time": "2023-01-02T15:44:42.134014Z",
     "start_time": "2023-01-02T15:44:41.894798Z"
    },
    "scrolled": false
   },
   "outputs": [
    {
     "data": {
      "text/plain": [
       "<matplotlib.legend.Legend at 0x1165c4d8490>"
      ]
     },
     "execution_count": 392,
     "metadata": {},
     "output_type": "execute_result"
    },
    {
     "data": {
      "image/png": "[encoded data removed]",
      "text/plain": [
       "<Figure size 500x400 with 1 Axes>"
      ]
     },
     "metadata": {},
     "output_type": "display_data"
    }
   ],
   "source": [
    "fig, ax = plt.subplots(figsize=(5, 4))\n",
    "for label, df in df_results_transfer.groupby(\"id\"):\n",
    "    df.plot(\"c\", \"ll\", ax=ax, label=label)\n",
    "_ = plt.legend()"
   ]
  },
  {
   "cell_type": "code",
   "execution_count": 399,
   "id": "205eba23",
   "metadata": {
    "ExecuteTime": {
     "end_time": "2023-01-02T16:02:50.940537Z",
     "start_time": "2023-01-02T16:02:50.838810Z"
    }
   },
   "outputs": [
    {
     "data": {
      "text/html": [
       "<div>\n",
       "<style scoped>\n",
       "    .dataframe tbody tr th:only-of-type {\n",
       "        vertical-align: middle;\n",
       "    }\n",
       "\n",
       "    .dataframe tbody tr th {\n",
       "        vertical-align: top;\n",
       "    }\n",
       "\n",
       "    .dataframe thead th {\n",
       "        text-align: right;\n",
       "    }\n",
       "</style>\n",
       "<table border=\"1\" class=\"dataframe\">\n",
       "  <thead>\n",
       "    <tr style=\"text-align: right;\">\n",
       "      <th></th>\n",
       "      <th>id</th>\n",
       "      <th>c</th>\n",
       "      <th>ll</th>\n",
       "      <th>rank</th>\n",
       "    </tr>\n",
       "  </thead>\n",
       "  <tbody>\n",
       "    <tr>\n",
       "      <th>0</th>\n",
       "      <td>101.0</td>\n",
       "      <td>0.425</td>\n",
       "      <td>-31.319083</td>\n",
       "      <td>1.0</td>\n",
       "    </tr>\n",
       "    <tr>\n",
       "      <th>0</th>\n",
       "      <td>102.0</td>\n",
       "      <td>0.425</td>\n",
       "      <td>-40.441596</td>\n",
       "      <td>1.0</td>\n",
       "    </tr>\n",
       "    <tr>\n",
       "      <th>0</th>\n",
       "      <td>103.0</td>\n",
       "      <td>0.375</td>\n",
       "      <td>-29.041927</td>\n",
       "      <td>1.0</td>\n",
       "    </tr>\n",
       "    <tr>\n",
       "      <th>0</th>\n",
       "      <td>104.0</td>\n",
       "      <td>0.475</td>\n",
       "      <td>-32.535299</td>\n",
       "      <td>1.0</td>\n",
       "    </tr>\n",
       "  </tbody>\n",
       "</table>\n",
       "</div>"
      ],
      "text/plain": [
       "      id      c         ll  rank\n",
       "0  101.0  0.425 -31.319083   1.0\n",
       "0  102.0  0.425 -40.441596   1.0\n",
       "0  103.0  0.375 -29.041927   1.0\n",
       "0  104.0  0.475 -32.535299   1.0"
      ]
     },
     "execution_count": 399,
     "metadata": {},
     "output_type": "execute_result"
    }
   ],
   "source": [
    "df_results_transfer.query(\"rank == 1\")"
   ]
  },
  {
   "cell_type": "code",
   "execution_count": 400,
   "id": "98961b98",
   "metadata": {
    "ExecuteTime": {
     "end_time": "2023-01-02T16:02:52.461219Z",
     "start_time": "2023-01-02T16:02:52.361210Z"
    }
   },
   "outputs": [],
   "source": [
    "df_results_transfer.to_csv(\"data/tbl_results_transfer.csv\")"
   ]
  },
  {
   "cell_type": "markdown",
   "id": "238c8eb9",
   "metadata": {},
   "source": [
    "## Test Individual Participants"
   ]
  },
  {
   "cell_type": "code",
   "execution_count": 275,
   "id": "f34603ad",
   "metadata": {
    "ExecuteTime": {
     "end_time": "2023-01-02T12:08:11.908277Z",
     "start_time": "2023-01-02T12:08:11.700061Z"
    }
   },
   "outputs": [],
   "source": [
    "stim_train_101 = tbl_train_small[tbl_train_small[\"participant\"] == 101][[\"d1i\", \"d2i\"]].to_numpy()\n",
    "fb_train_101 = tbl_train_small[tbl_train_small[\"participant\"] == 101][\"category_int\"].to_numpy()"
   ]
  },
  {
   "cell_type": "code",
   "execution_count": 276,
   "id": "ab65fb2f",
   "metadata": {
    "ExecuteTime": {
     "end_time": "2023-01-02T12:08:18.850937Z",
     "start_time": "2023-01-02T12:08:14.974415Z"
    }
   },
   "outputs": [],
   "source": [
    "ll, n_clusters, model = ptcl.fit_ll(\n",
    "    np.array([.1]), stim_train_101, fb_train_101\n",
    ")"
   ]
  },
  {
   "cell_type": "code",
   "execution_count": 282,
   "id": "a6af6c34",
   "metadata": {
    "ExecuteTime": {
     "end_time": "2023-01-02T12:09:23.851602Z",
     "start_time": "2023-01-02T12:09:23.652853Z"
    }
   },
   "outputs": [],
   "source": [
    "stim_pred = tbl_transfer[tbl_transfer[\"participant\"] == 101][[\"d1i\", \"d2i\"]].to_numpy()[0:20,]"
   ]
  },
  {
   "cell_type": "code",
   "execution_count": 283,
   "id": "3a532d00",
   "metadata": {
    "ExecuteTime": {
     "end_time": "2023-01-02T12:09:24.287193Z",
     "start_time": "2023-01-02T12:09:24.011069Z"
    }
   },
   "outputs": [],
   "source": [
    "fb_pred = tbl_transfer[tbl_transfer[\"participant\"] == 101][\"category_int\"].to_numpy()[0:20,]"
   ]
  },
  {
   "cell_type": "code",
   "execution_count": 293,
   "id": "18100b92",
   "metadata": {
    "ExecuteTime": {
     "end_time": "2023-01-02T12:21:07.962572Z",
     "start_time": "2023-01-02T12:21:07.819037Z"
    }
   },
   "outputs": [],
   "source": [
    "d_pred = {\"model\": model, \"stimuli\": stim_pred, \"feedback\": fb_pred}"
   ]
  },
  {
   "cell_type": "code",
   "execution_count": 284,
   "id": "4bc7fc19",
   "metadata": {
    "ExecuteTime": {
     "end_time": "2023-01-02T12:09:38.259374Z",
     "start_time": "2023-01-02T12:09:25.859703Z"
    },
    "scrolled": true
   },
   "outputs": [],
   "source": [
    "ll, K, model = ptcl.predict_ll(d_pred)"
   ]
  },
  {
   "cell_type": "code",
   "execution_count": 289,
   "id": "6ee93b24",
   "metadata": {
    "ExecuteTime": {
     "end_time": "2023-01-02T12:09:58.699670Z",
     "start_time": "2023-01-02T12:09:57.797639Z"
    }
   },
   "outputs": [],
   "source": [
    "ll, K, model = ptcl.predict_ll(model, np.array([[-1000, -1000]]), np.array([[1]]))"
   ]
  },
  {
   "cell_type": "code",
   "execution_count": null,
   "id": "356229be",
   "metadata": {
    "ExecuteTime": {
     "end_time": "2022-12-29T14:02:02.187397Z",
     "start_time": "2022-12-29T14:02:01.948923Z"
    }
   },
   "outputs": [],
   "source": [
    "stimnum = l_results[3][\"model\"][10].register_item(stim, checkduplicate=False)\n",
    "# compute posterior over observed features\n",
    "l_results[3][\"model\"][10].computeposterior(stimnum)"
   ]
  },
  {
   "cell_type": "code",
   "execution_count": null,
   "id": "42c03453",
   "metadata": {
    "ExecuteTime": {
     "end_time": "2022-12-30T10:44:50.575619Z",
     "start_time": "2022-12-30T10:44:50.297300Z"
    }
   },
   "outputs": [],
   "source": [
    "stimnum = l_results[5][\"model\"][10].register_item(stim, checkduplicate=False)\n",
    "# compute posterior over observed features\n",
    "l_results[5][\"model\"][10].computeposterior(stimnum)"
   ]
  },
  {
   "cell_type": "code",
   "execution_count": null,
   "id": "e0f10094",
   "metadata": {
    "ExecuteTime": {
     "end_time": "2022-12-29T13:51:24.090576Z",
     "start_time": "2022-12-29T13:51:23.876852Z"
    }
   },
   "outputs": [],
   "source": [
    "stimnum"
   ]
  },
  {
   "cell_type": "code",
   "execution_count": null,
   "id": "2d2878e0",
   "metadata": {
    "ExecuteTime": {
     "end_time": "2022-12-29T13:53:58.193356Z",
     "start_time": "2022-12-29T13:53:57.976061Z"
    }
   },
   "outputs": [],
   "source": [
    "l_results[0][\"model\"].currentposterior"
   ]
  },
  {
   "cell_type": "code",
   "execution_count": null,
   "id": "4e624085",
   "metadata": {
    "ExecuteTime": {
     "end_time": "2022-12-29T13:51:28.576925Z",
     "start_time": "2022-12-29T13:51:28.340988Z"
    }
   },
   "outputs": [],
   "source": [
    "l_results[0][\"model\"].stims"
   ]
  },
  {
   "cell_type": "code",
   "execution_count": null,
   "id": "b329b42a",
   "metadata": {
    "ExecuteTime": {
     "end_time": "2022-12-29T12:47:51.825704Z",
     "start_time": "2022-12-29T12:47:51.607310Z"
    }
   },
   "outputs": [],
   "source": [
    "l_results[0][\"model\"].additem_particle([3, 2])"
   ]
  },
  {
   "cell_type": "code",
   "execution_count": null,
   "id": "a2492f8f",
   "metadata": {
    "ExecuteTime": {
     "end_time": "2022-12-29T12:48:35.135784Z",
     "start_time": "2022-12-29T12:48:34.927985Z"
    }
   },
   "outputs": [],
   "source": [
    "math.log(l_results[0][\"model\"].plf[-1].flatten(\"C\")[2])"
   ]
  },
  {
   "cell_type": "code",
   "execution_count": null,
   "id": "16930698",
   "metadata": {
    "ExecuteTime": {
     "end_time": "2022-12-29T11:34:51.028032Z",
     "start_time": "2022-12-29T11:34:50.920321Z"
    }
   },
   "outputs": [],
   "source": [
    "p1 = tbl_train[tbl_train[\"participant\"] == 101]"
   ]
  },
  {
   "cell_type": "code",
   "execution_count": null,
   "id": "3ccc4c40",
   "metadata": {
    "ExecuteTime": {
     "end_time": "2022-12-29T11:35:26.318098Z",
     "start_time": "2022-12-29T11:35:26.225521Z"
    }
   },
   "outputs": [],
   "source": [
    "p1 = p1.iloc[0:100,:].copy()\n"
   ]
  },
  {
   "cell_type": "code",
   "execution_count": null,
   "id": "28e30a5e",
   "metadata": {
    "ExecuteTime": {
     "end_time": "2022-12-29T11:36:41.930729Z",
     "start_time": "2022-12-29T11:35:31.561952Z"
    }
   },
   "outputs": [],
   "source": [
    "ptcl.grid_search_particle(p1)"
   ]
  },
  {
   "cell_type": "code",
   "execution_count": null,
   "id": "8f3b03c1",
   "metadata": {
    "ExecuteTime": {
     "start_time": "2022-12-29T11:05:32.074Z"
    }
   },
   "outputs": [],
   "source": [
    "l_results = list(map(ptcl.grid_search_particle, list_to_process_no_names))"
   ]
  },
  {
   "cell_type": "code",
   "execution_count": null,
   "id": "62dbb98c",
   "metadata": {
    "ExecuteTime": {
     "end_time": "2022-12-29T11:04:00.561477Z",
     "start_time": "2022-12-29T11:03:07.080626Z"
    }
   },
   "outputs": [],
   "source": [
    "l_results"
   ]
  },
  {
   "cell_type": "code",
   "execution_count": null,
   "id": "2b934e8c",
   "metadata": {
    "ExecuteTime": {
     "start_time": "2022-12-29T11:29:12.267Z"
    }
   },
   "outputs": [],
   "source": [
    "l_results = ptcl.multiprocessing_grid_search_particle(tbl_train)"
   ]
  },
  {
   "cell_type": "markdown",
   "id": "6f66928d",
   "metadata": {},
   "source": [
    "optimize particle filter\n",
    "- takes too long, though"
   ]
  },
  {
   "cell_type": "markdown",
   "id": "351ac7e3",
   "metadata": {
    "ExecuteTime": {
     "end_time": "2022-12-27T18:16:22.762837Z",
     "start_time": "2022-12-27T18:16:22.676847Z"
    }
   },
   "source": [
    "start_params = np.array([.5])"
   ]
  },
  {
   "cell_type": "markdown",
   "id": "88d3a040",
   "metadata": {
    "ExecuteTime": {
     "end_time": "2022-12-27T18:16:28.422899Z",
     "start_time": "2022-12-27T18:16:28.347686Z"
    }
   },
   "source": [
    "bounds = Bounds([0], [1])"
   ]
  },
  {
   "cell_type": "markdown",
   "id": "e074831a",
   "metadata": {
    "ExecuteTime": {
     "end_time": "2022-12-28T16:52:08.872350Z",
     "start_time": "2022-12-28T16:52:08.754157Z"
    }
   },
   "source": [
    "def wrap_fit_particle(id, tbl_data):\n",
    "    stimuli_subset = tbl_data[tbl_data[\"participant\"] == id][[\"d1i\", \"d2i\"]].to_numpy()\n",
    "    feedback_subset = tbl_data[tbl_data[\"participant\"] == id][\"category\"].to_numpy()\n",
    "    c_seq = np.seq(0.025, 0.975, by=.05)\n",
    "    lls = list()\n",
    "    for c in c_seq:\n",
    "        lls.append(fit_ll(c, stimuli_subset, feedback_subset))\n",
    "    return lls"
   ]
  },
  {
   "cell_type": "markdown",
   "id": "5d1578cb",
   "metadata": {
    "ExecuteTime": {
     "end_time": "2022-12-28T15:40:54.857256Z",
     "start_time": "2022-12-28T15:40:54.648355Z"
    }
   },
   "source": [
    "def wrap_optim(id, tbl_data):\n",
    "    stimuli_subset = tbl_data[tbl_data[\"participant\"] == id][[\"d1i\", \"d2i\"]]\n",
    "    feedback_subset = tbl_data[tbl_data[\"participant\"] == id][\"category\"]\n",
    "    res = minimize(\n",
    "        ptcl.fit_ll, start_params, \n",
    "        args = (stimuli_subset, feedback_subset), \n",
    "        method = \"trust-constr\", bounds=bounds,\n",
    "        options={'gtol': 1e-6, 'disp': True}\n",
    "    )\n",
    "    l_out = [id, res]\n",
    "    return l_out"
   ]
  },
  {
   "cell_type": "markdown",
   "id": "6281656e",
   "metadata": {
    "ExecuteTime": {
     "end_time": "2022-12-28T16:58:54.096136Z",
     "start_time": "2022-12-28T16:58:53.894299Z"
    }
   },
   "source": [
    "wrap_fit_partial = partial(ptcl.grid_search_particle, tbl_data = tbl_train)"
   ]
  },
  {
   "cell_type": "markdown",
   "id": "878ca20a",
   "metadata": {
    "ExecuteTime": {
     "start_time": "2022-12-28T15:42:09.810Z"
    }
   },
   "source": [
    "f_partial = partial(wrap_optim, stimuli=tbl_train, feedback=feedback)\n",
    "p = multiprocessing.Pool(2)\n",
    "list_result = []\n",
    "for x in p.imap(f_partial, participants):\n",
    "    list_result.append(x)"
   ]
  },
  {
   "cell_type": "markdown",
   "id": "f19daa17",
   "metadata": {
    "ExecuteTime": {
     "end_time": "2022-12-27T18:18:26.869863Z",
     "start_time": "2022-12-27T18:16:29.219077Z"
    }
   },
   "source": [
    "res = minimize(\n",
    "    ptcl.fit_ll, start_params, \n",
    "    args = (stimuli_np, feedback_np), \n",
    "    method = \"trust-constr\", bounds=bounds,\n",
    "    options={'gtol': 1e-6, 'disp': True}\n",
    ")"
   ]
  },
  {
   "cell_type": "code",
   "execution_count": null,
   "id": "6466f8a0",
   "metadata": {},
   "outputs": [],
   "source": []
  }
 ],
 "metadata": {
  "kernelspec": {
   "display_name": "Python 3 (ipykernel)",
   "language": "python",
   "name": "python3"
  },
  "language_info": {
   "codemirror_mode": {
    "name": "ipython",
    "version": 3
   },
   "file_extension": ".py",
   "mimetype": "text/x-python",
   "name": "python",
   "nbconvert_exporter": "python",
   "pygments_lexer": "ipython3",
   "version": "3.10.8"
  },
  "toc": {
   "base_numbering": 1,
   "nav_menu": {},
   "number_sections": true,
   "sideBar": true,
   "skip_h1_title": false,
   "title_cell": "Table of Contents",
   "title_sidebar": "Contents",
   "toc_cell": true,
   "toc_position": {},
   "toc_section_display": true,
   "toc_window_display": false
  }
 },
 "nbformat": 4,
 "nbformat_minor": 5
}
